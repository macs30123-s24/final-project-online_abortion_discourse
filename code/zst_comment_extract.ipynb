{
 "cells": [
  {
   "cell_type": "code",
   "execution_count": 1,
   "metadata": {},
   "outputs": [
    {
     "name": "stdout",
     "output_type": "stream",
     "text": [
      "Starting Spark application\n"
     ]
    },
    {
     "data": {
      "text/html": [
       "<table>\n",
       "<tr><th>ID</th><th>YARN Application ID</th><th>Kind</th><th>State</th><th>Spark UI</th><th>Driver log</th><th>Current session?</th></tr><tr><td>0</td><td>application_1716517022501_0002</td><td>pyspark</td><td>idle</td><td><a target=\"_blank\" href=\"http://ip-172-31-40-251.ec2.internal:20888/proxy/application_1716517022501_0002/\">Link</a></td><td><a target=\"_blank\" href=\"http://ip-172-31-46-69.ec2.internal:8042/node/containerlogs/container_1716517022501_0002_01_000001/livy\">Link</a></td><td>✔</td></tr></table>"
      ],
      "text/plain": [
       "<IPython.core.display.HTML object>"
      ]
     },
     "metadata": {},
     "output_type": "display_data"
    },
    {
     "data": {
      "application/vnd.jupyter.widget-view+json": {
       "model_id": "",
       "version_major": 2,
       "version_minor": 0
      },
      "text/plain": [
       "FloatProgress(value=0.0, bar_style='info', description='Progress:', layout=Layout(height='25px', width='50%'),…"
      ]
     },
     "metadata": {},
     "output_type": "display_data"
    },
    {
     "name": "stdout",
     "output_type": "stream",
     "text": [
      "SparkSession available as 'spark'.\n"
     ]
    },
    {
     "data": {
      "application/vnd.jupyter.widget-view+json": {
       "model_id": "",
       "version_major": 2,
       "version_minor": 0
      },
      "text/plain": [
       "FloatProgress(value=0.0, bar_style='info', description='Progress:', layout=Layout(height='25px', width='50%'),…"
      ]
     },
     "metadata": {},
     "output_type": "display_data"
    }
   ],
   "source": [
    "from pyspark.sql import SparkSession\n",
    "\n",
    "spark = SparkSession.builder \\\n",
    "    .appName(\"comments\") \\\n",
    "    .config(\"spark.executor.memory\", \"12g\") \\\n",
    "    .config(\"spark.executor.cores\", \"4\") \\\n",
    "    .config(\"spark.executor.instances\", \"4\") \\\n",
    "    .config(\"spark.driver.memory\", \"8g\") \\\n",
    "    .getOrCreate()"
   ]
  },
  {
   "cell_type": "code",
   "execution_count": 5,
   "metadata": {},
   "outputs": [
    {
     "data": {
      "application/vnd.jupyter.widget-view+json": {
       "model_id": "",
       "version_major": 2,
       "version_minor": 0
      },
      "text/plain": [
       "FloatProgress(value=0.0, bar_style='info', description='Progress:', layout=Layout(height='25px', width='50%'),…"
      ]
     },
     "metadata": {},
     "output_type": "display_data"
    }
   ],
   "source": [
    "import sparknlp\n",
    "from sparknlp.base import *\n",
    "from sparknlp.annotator import *\n",
    "import matplotlib.pyplot as plt\n",
    "import pandas as pd\n",
    "from pyspark.sql.functions import col, udf, to_timestamp, desc, year, count, round, monotonically_increasing_id, concat, lit\n",
    "from pyspark.sql.functions import from_unixtime, from_json, explode\n",
    "from pyspark.sql.types import StructType, StructField, StringType, IntegerType\n",
    "import pyspark.sql.functions as F\n",
    "import json"
   ]
  },
  {
   "cell_type": "markdown",
   "metadata": {},
   "source": [
    "# Step 1\n",
    " First I am going to read my dataframe I created out the posts containing 'abortion' in the title. I create a new column by adding a 't3-' to the beginning of the ID, which is how Reddit lets you tell what post someone is responding to. Then, I am going to make the column a new dataframe to make it easier when so I perform an inner join on matching comments."
   ]
  },
  {
   "cell_type": "code",
   "execution_count": 6,
   "metadata": {},
   "outputs": [
    {
     "data": {
      "application/vnd.jupyter.widget-view+json": {
       "model_id": "",
       "version_major": 2,
       "version_minor": 0
      },
      "text/plain": [
       "FloatProgress(value=0.0, bar_style='info', description='Progress:', layout=Layout(height='25px', width='50%'),…"
      ]
     },
     "metadata": {},
     "output_type": "display_data"
    },
    {
     "name": "stdout",
     "output_type": "stream",
     "text": [
      "root\n",
      " |-- parent_id: string (nullable = true)"
     ]
    }
   ],
   "source": [
    "abortion_posts = spark.read.parquet('s3://131313113finalproject/posts_w_comments/').persist()\n",
    "\n",
    "# adding on 't3_', making new df\n",
    "parent_id = abortion_posts.select(F.concat(F.lit(\"t3_\"), abortion_posts[\"id\"]).alias(\"parent_id\"))\n",
    "parent_id.printSchema()"
   ]
  },
  {
   "cell_type": "markdown",
   "metadata": {},
   "source": [
    "# Step 2\n",
    "Now I am going to read the 2 GB compressed zst file from my s3 bucket. By reading it in as a text file, it create a single column dataframe where the column is the entirety of the data for that comment."
   ]
  },
  {
   "cell_type": "code",
   "execution_count": 7,
   "metadata": {},
   "outputs": [
    {
     "data": {
      "application/vnd.jupyter.widget-view+json": {
       "model_id": "",
       "version_major": 2,
       "version_minor": 0
      },
      "text/plain": [
       "FloatProgress(value=0.0, bar_style='info', description='Progress:', layout=Layout(height='25px', width='50%'),…"
      ]
     },
     "metadata": {},
     "output_type": "display_data"
    }
   ],
   "source": [
    "# reading in my zst file\n",
    "z_file = 's3://131313113finalproject/Conservative_comments.zst'\n",
    "\n",
    "data = spark.read.text(z_file)\n",
    "# data_sample = data.sample(withReplacement=False, fraction=0.3)"
   ]
  },
  {
   "cell_type": "code",
   "execution_count": 9,
   "metadata": {},
   "outputs": [
    {
     "data": {
      "application/vnd.jupyter.widget-view+json": {
       "model_id": "",
       "version_major": 2,
       "version_minor": 0
      },
      "text/plain": [
       "FloatProgress(value=0.0, bar_style='info', description='Progress:', layout=Layout(height='25px', width='50%'),…"
      ]
     },
     "metadata": {},
     "output_type": "display_data"
    },
    {
     "name": "stdout",
     "output_type": "stream",
     "text": [
      "root\n",
      " |-- value: string (nullable = true)"
     ]
    }
   ],
   "source": [
    "data.printSchema()"
   ]
  },
  {
   "cell_type": "markdown",
   "metadata": {},
   "source": [
    "# Step 3\n",
    "Next, I will be using the pyspark sql function from_json. This function parses a column on a dataframe and maps the data to the schema you provide."
   ]
  },
  {
   "cell_type": "code",
   "execution_count": 12,
   "metadata": {},
   "outputs": [
    {
     "data": {
      "application/vnd.jupyter.widget-view+json": {
       "model_id": "",
       "version_major": 2,
       "version_minor": 0
      },
      "text/plain": [
       "FloatProgress(value=0.0, bar_style='info', description='Progress:', layout=Layout(height='25px', width='50%'),…"
      ]
     },
     "metadata": {},
     "output_type": "display_data"
    }
   ],
   "source": [
    "# creating schema for data\n",
    "json_schema = StructType([\n",
    "    StructField(\"body\", StringType(), True),\n",
    "    StructField(\"author\", StringType(), True),\n",
    "    StructField(\"created_utc\", StringType(), True),\n",
    "    StructField(\"score\", StringType(), True),\n",
    "    StructField(\"id\", StringType(), True),\n",
    "    StructField(\"link_id\", StringType(), True),\n",
    "    StructField(\"subreddit\", StringType(), True),\n",
    "    StructField(\"author_flair_text\", StringType(), True)\n",
    "])\n",
    "\n",
    "json_comments = data.select(from_json(col(\"value\"), json_schema).alias(\"mapped_comments\"))"
   ]
  },
  {
   "cell_type": "markdown",
   "metadata": {},
   "source": [
    "# Step 4\n",
    "After I have the data mapped, I preform an inner join with the previously made parent id dataframe, ensuring that only comments responding to the previously chosen posts make it into the dataset"
   ]
  },
  {
   "cell_type": "code",
   "execution_count": 13,
   "metadata": {},
   "outputs": [
    {
     "data": {
      "application/vnd.jupyter.widget-view+json": {
       "model_id": "",
       "version_major": 2,
       "version_minor": 0
      },
      "text/plain": [
       "FloatProgress(value=0.0, bar_style='info', description='Progress:', layout=Layout(height='25px', width='50%'),…"
      ]
     },
     "metadata": {},
     "output_type": "display_data"
    }
   ],
   "source": [
    "# filtering based on matches with parent id\n",
    "filtered_comments = json_comments.join(\n",
    "    parent_id,\n",
    "    json_comments.mapped_comments.link_id == parent_id.parent_id,\n",
    "    \"inner\"\n",
    ").select(\"mapped_comments.*\")"
   ]
  },
  {
   "cell_type": "markdown",
   "metadata": {},
   "source": [
    "# Step 5\n",
    "Writing to parquet"
   ]
  },
  {
   "cell_type": "code",
   "execution_count": 14,
   "metadata": {},
   "outputs": [
    {
     "data": {
      "application/vnd.jupyter.widget-view+json": {
       "model_id": "",
       "version_major": 2,
       "version_minor": 0
      },
      "text/plain": [
       "FloatProgress(value=0.0, bar_style='info', description='Progress:', layout=Layout(height='25px', width='50%'),…"
      ]
     },
     "metadata": {},
     "output_type": "display_data"
    }
   ],
   "source": [
    "# writing to parquet\n",
    "filtered_comments.write.parquet(\"filtered_comments_full_flare.parquet\")"
   ]
  },
  {
   "cell_type": "code",
   "execution_count": 15,
   "metadata": {},
   "outputs": [
    {
     "data": {
      "application/vnd.jupyter.widget-view+json": {
       "model_id": "",
       "version_major": 2,
       "version_minor": 0
      },
      "text/plain": [
       "FloatProgress(value=0.0, bar_style='info', description='Progress:', layout=Layout(height='25px', width='50%'),…"
      ]
     },
     "metadata": {},
     "output_type": "display_data"
    }
   ],
   "source": [
    "fcf_ft = spark.read.parquet(\"filtered_comments_full_flare.parquet\")"
   ]
  },
  {
   "cell_type": "code",
   "execution_count": 94,
   "metadata": {},
   "outputs": [
    {
     "data": {
      "application/vnd.jupyter.widget-view+json": {
       "model_id": "",
       "version_major": 2,
       "version_minor": 0
      },
      "text/plain": [
       "FloatProgress(value=0.0, bar_style='info', description='Progress:', layout=Layout(height='25px', width='50%'),…"
      ]
     },
     "metadata": {},
     "output_type": "display_data"
    },
    {
     "name": "stdout",
     "output_type": "stream",
     "text": [
      "+--------------------+-------------------+-----------+-----+-------+--------+------------+-----------------+\n",
      "|                body|             author|created_utc|score|     id| link_id|   subreddit|author_flair_text|\n",
      "+--------------------+-------------------+-----------+-----+-------+--------+------------+-----------------+\n",
      "|\"Every definition...|          [deleted]| 1222118791|    1|c05jb53|t3_72v18|Conservative|             null|\n",
      "|Do you take every...|           cldnails| 1222119964|    1|c05jbgv|t3_72v18|Conservative|             null|\n",
      "|Your response dri...|          [deleted]| 1222120133|    3|c05jbih|t3_72v18|Conservative|             null|\n",
      "|You are not makin...|           cldnails| 1222129073|    1|c05jdq2|t3_72v18|Conservative|             null|\n",
      "|You're not making...|          [deleted]| 1222130061|    1|c05jdyy|t3_72v18|Conservative|             null|\n",
      "|The woman decidin...|          [deleted]| 1261564782|    1|c0hml86|t3_ahsop|Conservative|             null|\n",
      "|State's right, Fe...|         slamare247| 1261565086|    5|c0hmlbt|t3_ahsop|Conservative|             null|\n",
      "|So you're saying ...|          [deleted]| 1261565125|    0|c0hmlcb|t3_ahsop|Conservative|             null|\n",
      "|Agreed. Roe vs. W...|          [deleted]| 1261565463|    3|c0hmlgh|t3_ahsop|Conservative|             null|\n",
      "|    Nope, not at all|          [deleted]| 1261566212|    2|c0hmlpk|t3_ahsop|Conservative|             null|\n",
      "|No, and I'm an at...|          [deleted]| 1261569940|    2|c0hmn0j|t3_ahsop|Conservative|             null|\n",
      "|I think it should...|        Laughsatyou| 1261571956|    2|c0hmnrx|t3_ahsop|Conservative|             null|\n",
      "|The subtext of yo...|        itsnotlupus| 1261572444|    0|c0hmnzj|t3_ahsop|Conservative|             null|\n",
      "|*I have a differe...|OneSalientOversight| 1261572662|    1|c0hmo36|t3_ahsop|Conservative|             null|\n",
      "|  I was just joking.|          [deleted]| 1261592055|    2|c0hn4xc|t3_ahsop|Conservative|             null|\n",
      "|              I knew|          [deleted]| 1261607348|    1|c0hnlbb|t3_ahsop|Conservative|             null|\n",
      "|Whether adultery ...|            sanrabb| 1261609953|   -2|c0hnnst|t3_ahsop|Conservative|             null|\n",
      "|No, and I'm not r...|          [deleted]| 1261856643|   -2|c0hrp7q|t3_ahsop|Conservative|             null|\n",
      "|       Slavery, too!|             fffish| 1262564152|    1|c0i5rdw|t3_ahsop|Conservative|             null|\n",
      "|Funny how opinion...|         FrankManic| 1268421620|    1|c0m353a|t3_bcj1g|Conservative|             null|\n",
      "+--------------------+-------------------+-----------+-----+-------+--------+------------+-----------------+\n",
      "only showing top 20 rows"
     ]
    }
   ],
   "source": [
    "fcf_ft.show()"
   ]
  },
  {
   "cell_type": "code",
   "execution_count": 90,
   "metadata": {},
   "outputs": [
    {
     "data": {
      "application/vnd.jupyter.widget-view+json": {
       "model_id": "",
       "version_major": 2,
       "version_minor": 0
      },
      "text/plain": [
       "FloatProgress(value=0.0, bar_style='info', description='Progress:', layout=Layout(height='25px', width='50%'),…"
      ]
     },
     "metadata": {},
     "output_type": "display_data"
    },
    {
     "name": "stdout",
     "output_type": "stream",
     "text": [
      "+--------------------+-------------+-----------+-----+-------+--------+------------+--------------------+\n",
      "|                body|       author|created_utc|score|     id| link_id|   subreddit|   author_flair_text|\n",
      "+--------------------+-------------+-----------+-----+-------+--------+------------+--------------------+\n",
      "|Well, considering...|    plato1123| 1269909833|   -5|c0n5bkf|t3_bjsrb|Conservative|            Moderate|\n",
      "|Just throw in the...|contrarianism| 1269921488|    1|c0n5p1p|t3_bjsrb|Conservative|ideologues gonna ...|\n",
      "|It makes you wond...|      DJWhamo| 1269941231|    5|c0n63sd|t3_bjsrb|Conservative|               Paleo|\n",
      "|How can you be ag...|      DJWhamo| 1270364278|    4|c0ngf1g|t3_bjsrb|Conservative|               Paleo|\n",
      "|Matter of opinion...|      DJWhamo| 1270396555|    0|c0ngu7p|t3_bjsrb|Conservative|               Paleo|\n",
      "|Anti-rights vs. p...|      DJWhamo| 1270400865|    1|c0ngxr4|t3_bjsrb|Conservative|               Paleo|\n",
      "|Here's the thing-...|      DJWhamo| 1270429587|    0|c0nhogi|t3_bjsrb|Conservative|               Paleo|\n",
      "|Full context.\n",
      "\n",
      "&g...| recreational| 1270532693|    0|c0nkge2|t3_bjsrb|Conservative|          Monarchist|\n",
      "|&gt; On the air, ...| recreational| 1270532711|    1|c0nkgen|t3_bjsrb|Conservative|          Monarchist|\n",
      "|Dead forums fill ...| recreational| 1270540798|    1|c0nkltt|t3_bjsrb|Conservative|          Monarchist|\n",
      "|You:\n",
      "\n",
      "&gt; &gt;It...| recreational| 1270577024|    1|c0nlgia|t3_bjsrb|Conservative|          Monarchist|\n",
      "|Sir, your quote i...| recreational| 1270591695|    1|c0nm0qd|t3_bjsrb|Conservative|          Monarchist|\n",
      "|&gt; Sir, your qu...| recreational| 1270608862|    1|c0nmlfg|t3_bjsrb|Conservative|          Monarchist|\n",
      "|People want more ...|     mayonesa| 1273863873|    3|c0q0qek|t3_c45dz|Conservative|   Paleoconservative|\n",
      "|With me, I person...|      DJWhamo| 1273905405|    2|c0q1yv9|t3_c45dz|Conservative|               Paleo|\n",
      "|Are we giving any...|      DJWhamo| 1278786569|    1|c0typ2v|t3_cnyoj|Conservative|               Paleo|\n",
      "|As much as I thin...|     mayonesa| 1283185663|   -8|c0y2uig|t3_d799v|Conservative|   Paleoconservative|\n",
      "|Eat 10,000 dicks ...|     mayonesa| 1283186711|   -4|c0y2w8q|t3_d799v|Conservative|   Paleoconservative|\n",
      "|Either that or I'...|     mayonesa| 1283190293|   -3|c0y322h|t3_d799v|Conservative|   Paleoconservative|\n",
      "|Erudite. When did...|     mayonesa| 1283190333|    0|c0y3257|t3_d799v|Conservative|   Paleoconservative|\n",
      "+--------------------+-------------+-----------+-----+-------+--------+------------+--------------------+\n",
      "only showing top 20 rows"
     ]
    }
   ],
   "source": [
    "filtered_comments_full = filtered_comments_full.where(filtered_comments_full['author_flair_text'] != 'null')\n",
    "filtered_comments_full.show()"
   ]
  },
  {
   "cell_type": "code",
   "execution_count": 95,
   "metadata": {},
   "outputs": [
    {
     "data": {
      "application/vnd.jupyter.widget-view+json": {
       "model_id": "",
       "version_major": 2,
       "version_minor": 0
      },
      "text/plain": [
       "FloatProgress(value=0.0, bar_style='info', description='Progress:', layout=Layout(height='25px', width='50%'),…"
      ]
     },
     "metadata": {},
     "output_type": "display_data"
    }
   ],
   "source": [
    "# Convert string to integer and then to timestamp I can use\n",
    "fcf_ft = fcf_ft.withColumn(\"time\", from_unixtime(fcf_ft[\"created_utc\"].cast(\"bigint\")))"
   ]
  },
  {
   "cell_type": "code",
   "execution_count": 96,
   "metadata": {},
   "outputs": [
    {
     "data": {
      "application/vnd.jupyter.widget-view+json": {
       "model_id": "",
       "version_major": 2,
       "version_minor": 0
      },
      "text/plain": [
       "FloatProgress(value=0.0, bar_style='info', description='Progress:', layout=Layout(height='25px', width='50%'),…"
      ]
     },
     "metadata": {},
     "output_type": "display_data"
    },
    {
     "name": "stdout",
     "output_type": "stream",
     "text": [
      "+--------------------+---------+-----------+-----+-------+--------+------------+-----------------+-------------------+\n",
      "|                body|   author|created_utc|score|     id| link_id|   subreddit|author_flair_text|               time|\n",
      "+--------------------+---------+-----------+-----+-------+--------+------------+-----------------+-------------------+\n",
      "|\"Every definition...|[deleted]| 1222118791|    1|c05jb53|t3_72v18|Conservative|             null|2008-09-22 21:26:31|\n",
      "|Do you take every...| cldnails| 1222119964|    1|c05jbgv|t3_72v18|Conservative|             null|2008-09-22 21:46:04|\n",
      "+--------------------+---------+-----------+-----+-------+--------+------------+-----------------+-------------------+\n",
      "only showing top 2 rows"
     ]
    }
   ],
   "source": [
    "# checking on that\n",
    "fcf_ft.show(2)"
   ]
  },
  {
   "cell_type": "code",
   "execution_count": 16,
   "metadata": {},
   "outputs": [
    {
     "data": {
      "application/vnd.jupyter.widget-view+json": {
       "model_id": "",
       "version_major": 2,
       "version_minor": 0
      },
      "text/plain": [
       "FloatProgress(value=0.0, bar_style='info', description='Progress:', layout=Layout(height='25px', width='50%'),…"
      ]
     },
     "metadata": {},
     "output_type": "display_data"
    },
    {
     "name": "stdout",
     "output_type": "stream",
     "text": [
      "root\n",
      " |-- body: string (nullable = true)\n",
      " |-- author: string (nullable = true)\n",
      " |-- created_utc: string (nullable = true)\n",
      " |-- score: string (nullable = true)\n",
      " |-- id: string (nullable = true)\n",
      " |-- link_id: string (nullable = true)\n",
      " |-- subreddit: string (nullable = true)\n",
      " |-- author_flair_text: string (nullable = true)\n",
      "\n",
      "Total Rows: 206756"
     ]
    }
   ],
   "source": [
    "# looking at schema for total data\n",
    "fcf_ft.printSchema()\n",
    "print('Total Rows: %d' % fcf_ft.count())"
   ]
  },
  {
   "cell_type": "code",
   "execution_count": 98,
   "metadata": {},
   "outputs": [
    {
     "data": {
      "application/vnd.jupyter.widget-view+json": {
       "model_id": "",
       "version_major": 2,
       "version_minor": 0
      },
      "text/plain": [
       "FloatProgress(value=0.0, bar_style='info', description='Progress:', layout=Layout(height='25px', width='50%'),…"
      ]
     },
     "metadata": {},
     "output_type": "display_data"
    }
   ],
   "source": [
    "# writing to bucket\n",
    "bucket = 's3://131313113finalproject/ffcf_ft'\n",
    "fcf_ft.write.parquet(bucket, mode=\"overwrite\")"
   ]
  }
 ],
 "metadata": {
  "kernelspec": {
   "display_name": "PySpark",
   "language": "",
   "name": "pysparkkernel"
  },
  "language_info": {
   "codemirror_mode": {
    "name": "python",
    "version": 3
   },
   "mimetype": "text/x-python",
   "name": "pyspark",
   "pygments_lexer": "python3"
  }
 },
 "nbformat": 4,
 "nbformat_minor": 4
}
