{
 "cells": [
  {
   "cell_type": "markdown",
   "metadata": {},
   "source": [
    "## Cleaning, EDA and LDA of Submission Dataset"
   ]
  },
  {
   "cell_type": "code",
   "execution_count": 1,
   "metadata": {},
   "outputs": [
    {
     "name": "stdout",
     "output_type": "stream",
     "text": [
      "Starting Spark application\n"
     ]
    },
    {
     "data": {
      "text/html": [
       "<table>\n",
       "<tr><th>ID</th><th>YARN Application ID</th><th>Kind</th><th>State</th><th>Spark UI</th><th>Driver log</th><th>Current session?</th></tr><tr><td>5</td><td>application_1716403081472_0007</td><td>pyspark</td><td>idle</td><td><a target=\"_blank\" href=\"http://ip-172-31-45-166.ec2.internal:20888/proxy/application_1716403081472_0007/\">Link</a></td><td><a target=\"_blank\" href=\"http://ip-172-31-44-195.ec2.internal:8042/node/containerlogs/container_1716403081472_0007_01_000001/livy\">Link</a></td><td>✔</td></tr></table>"
      ],
      "text/plain": [
       "<IPython.core.display.HTML object>"
      ]
     },
     "metadata": {},
     "output_type": "display_data"
    },
    {
     "data": {
      "application/vnd.jupyter.widget-view+json": {
       "model_id": "",
       "version_major": 2,
       "version_minor": 0
      },
      "text/plain": [
       "FloatProgress(value=0.0, bar_style='info', description='Progress:', layout=Layout(height='25px', width='50%'),…"
      ]
     },
     "metadata": {},
     "output_type": "display_data"
    },
    {
     "name": "stdout",
     "output_type": "stream",
     "text": [
      "SparkSession available as 'spark'.\n"
     ]
    },
    {
     "data": {
      "application/vnd.jupyter.widget-view+json": {
       "model_id": "",
       "version_major": 2,
       "version_minor": 0
      },
      "text/plain": [
       "FloatProgress(value=0.0, bar_style='info', description='Progress:', layout=Layout(height='25px', width='50%'),…"
      ]
     },
     "metadata": {},
     "output_type": "display_data"
    }
   ],
   "source": [
    "from pyspark.sql import SparkSession\n",
    "\n",
    "spark = SparkSession.builder \\\n",
    "    .appName(\"posts\") \\\n",
    "    .config(\"spark.dynamicAllocation.executorIdleTimeout\", \"300s\")\\\n",
    "    .config(\"spark.executor.memory\", \"12g\") \\\n",
    "    .config(\"spark.executor.cores\", \"3\") \\\n",
    "    .config(\"spark.executor.instances\", \"2\") \\\n",
    "    .config(\"spark.driver.memory\", \"8g\") \\\n",
    "    .getOrCreate()"
   ]
  },
  {
   "cell_type": "code",
   "execution_count": 41,
   "metadata": {},
   "outputs": [
    {
     "data": {
      "application/vnd.jupyter.widget-view+json": {
       "model_id": "",
       "version_major": 2,
       "version_minor": 0
      },
      "text/plain": [
       "FloatProgress(value=0.0, bar_style='info', description='Progress:', layout=Layout(height='25px', width='50%'),…"
      ]
     },
     "metadata": {},
     "output_type": "display_data"
    }
   ],
   "source": [
    "import sparknlp\n",
    "from sparknlp.base import *\n",
    "from sparknlp.annotator import *\n",
    "\n",
    "import matplotlib.pyplot as plt\n",
    "import pandas as pd\n",
    "\n",
    "from pyspark.sql import functions as F\n",
    "from pyspark.sql.functions import (\n",
    "    to_timestamp, explode, desc, year, count, round, monotonically_increasing_id, col\n",
    ")\n",
    "from pyspark.ml.functions import vector_to_array\n",
    "from pyspark.sql.types import StructType, StructField, IntegerType\n",
    "from pyspark.ml.feature import CountVectorizer, NGram"
   ]
  },
  {
   "cell_type": "markdown",
   "metadata": {},
   "source": [
    "# Basic Data EDA"
   ]
  },
  {
   "cell_type": "code",
   "execution_count": 4,
   "metadata": {},
   "outputs": [
    {
     "data": {
      "application/vnd.jupyter.widget-view+json": {
       "model_id": "",
       "version_major": 2,
       "version_minor": 0
      },
      "text/plain": [
       "FloatProgress(value=0.0, bar_style='info', description='Progress:', layout=Layout(height='25px', width='50%'),…"
      ]
     },
     "metadata": {},
     "output_type": "display_data"
    }
   ],
   "source": [
    "# reading in data\n",
    "data = spark.read \\\n",
    "    .format(\"csv\") \\\n",
    "    .option(\"header\", \"true\") \\\n",
    "    .option(\"delimiter\", \",\") \\\n",
    "    .load(\"s3://131313113finalproject/output_fixed.csv\")"
   ]
  },
  {
   "cell_type": "code",
   "execution_count": 5,
   "metadata": {},
   "outputs": [
    {
     "data": {
      "application/vnd.jupyter.widget-view+json": {
       "model_id": "",
       "version_major": 2,
       "version_minor": 0
      },
      "text/plain": [
       "FloatProgress(value=0.0, bar_style='info', description='Progress:', layout=Layout(height='25px', width='50%'),…"
      ]
     },
     "metadata": {},
     "output_type": "display_data"
    },
    {
     "name": "stdout",
     "output_type": "stream",
     "text": [
      "Total Columns: 7\n",
      "Total Rows: 10372\n",
      "root\n",
      " |-- title: string (nullable = true)\n",
      " |-- date_posted: string (nullable = true)\n",
      " |-- author: string (nullable = true)\n",
      " |-- id: string (nullable = true)\n",
      " |-- flare: string (nullable = true)\n",
      " |-- num_comments: string (nullable = true)\n",
      " |-- url: string (nullable = true)\n",
      "\n",
      "DataFrame[title: string, date_posted: string, author: string, id: string, flare: string, num_comments: string, url: string]"
     ]
    }
   ],
   "source": [
    "print('Total Columns: %d' % len(data.dtypes))\n",
    "print('Total Rows: %d' % data.count())\n",
    "data.printSchema()\n",
    "data.persist()"
   ]
  },
  {
   "cell_type": "markdown",
   "metadata": {},
   "source": [
    "Out of a 64 MB ZST File (iterated through on google colab due to smaller size), with over a million rows, only 10,372 posts contained the word 'abortion' in the title. Since it's relativley small, I am going to keep it a csv. \n",
    "I am using this to get more familiar with pyspark and to add to the complete exploration and analysis of the Conservative Subreddits discourse towards abortion. "
   ]
  },
  {
   "cell_type": "markdown",
   "metadata": {},
   "source": [
    "### Data Cleaning"
   ]
  },
  {
   "cell_type": "code",
   "execution_count": 6,
   "metadata": {},
   "outputs": [
    {
     "data": {
      "application/vnd.jupyter.widget-view+json": {
       "model_id": "",
       "version_major": 2,
       "version_minor": 0
      },
      "text/plain": [
       "FloatProgress(value=0.0, bar_style='info', description='Progress:', layout=Layout(height='25px', width='50%'),…"
      ]
     },
     "metadata": {},
     "output_type": "display_data"
    },
    {
     "name": "stdout",
     "output_type": "stream",
     "text": [
      "+--------------------+\n",
      "|               title|\n",
      "+--------------------+\n",
      "|Men Aren't Allowe...|\n",
      "|Obama's Love Affa...|\n",
      "|Liberals vs. Cons...|\n",
      "|Unlike back-alley...|\n",
      "|The Immorality of...|\n",
      "|\"Obama's \"\"Mad\"\" ...|\n",
      "|Views on Abortion...|\n",
      "|Stop Hyding! Abor...|\n",
      "|Speaker Pelosi’s ...|\n",
      "|\"Senator Democrat...|\n",
      "|Should abortion b...|\n",
      "|  The New York Ti...|\n",
      "|\"NPR memo to all ...|\n",
      "|The New Normal on...|\n",
      "|Is Ron Paul Wrong...|\n",
      "|Two sides critici...|\n",
      "|The Obama adminis...|\n",
      "|\"Political Advice...|\n",
      "|Gov. Christie Vet...|\n",
      "|Forced Abortion I...|\n",
      "+--------------------+\n",
      "only showing top 20 rows"
     ]
    }
   ],
   "source": [
    "data.select('title').show()"
   ]
  },
  {
   "cell_type": "markdown",
   "metadata": {},
   "source": [
    "I had to reclean the titles a few times to get spark to be able to read the CSV file into a spark DF correctly. Now they look good minus some spacing and puntuation issues, but pipeline should take care of that."
   ]
  },
  {
   "cell_type": "code",
   "execution_count": 7,
   "metadata": {},
   "outputs": [
    {
     "data": {
      "application/vnd.jupyter.widget-view+json": {
       "model_id": "",
       "version_major": 2,
       "version_minor": 0
      },
      "text/plain": [
       "FloatProgress(value=0.0, bar_style='info', description='Progress:', layout=Layout(height='25px', width='50%'),…"
      ]
     },
     "metadata": {},
     "output_type": "display_data"
    },
    {
     "name": "stdout",
     "output_type": "stream",
     "text": [
      "+--------------------+-------------------+------------------+-----+-----+------------+--------------------+\n",
      "|               title|        date_posted|            author|   id|flare|num_comments|                 url|\n",
      "+--------------------+-------------------+------------------+-----+-----+------------+--------------------+\n",
      "|Men Aren't Allowe...|2008-09-22 19:01:29|          cldnails|72v18| null|           5|/r/Conservative/c...|\n",
      "|Obama's Love Affa...|2009-02-28 15:31:43|           PREZman|810zx| null|           0|/r/Conservative/c...|\n",
      "|Liberals vs. Cons...|2009-03-04 19:10:08|         Ken_Watts|823uf| null|           0|/r/Conservative/c...|\n",
      "|Unlike back-alley...|2009-03-07 00:10:46|           dan1123|82q6t| null|           0|/r/Conservative/c...|\n",
      "|The Immorality of...|2009-07-28 14:04:48|IndustrialEngineer|95ard| null|           0|/r/Conservative/c...|\n",
      "|\"Obama's \"\"Mad\"\" ...|2009-08-28 02:17:31|         [deleted]|9ew0d| null|           0|/r/Conservative/c...|\n",
      "|Views on Abortion...|2009-09-25 04:31:10|         [deleted]|9nwbh| null|           0|/r/Conservative/c...|\n",
      "|Stop Hyding! Abor...|2009-10-08 18:14:44|         [deleted]|9s4x3| null|           0|/r/Conservative/c...|\n",
      "|Speaker Pelosi’s ...|2009-11-05 20:02:14|      unitedstates|a1dcn| null|           0|/r/Conservative/c...|\n",
      "|\"Senator Democrat...|2009-11-19 21:22:09|         [deleted]|a66oz| null|           0|/r/Conservative/c...|\n",
      "|Should abortion b...|2009-12-23 10:33:52|         [deleted]|ahsop| null|          14|/r/Conservative/c...|\n",
      "|  The New York Ti...|2010-03-12 13:45:03|         30Seconds|bcj1g| null|           2|/r/Conservative/c...|\n",
      "|\"NPR memo to all ...|2010-03-29 17:46:07|         [deleted]|bjsrb| null|          43|/r/Conservative/c...|\n",
      "|The New Normal on...|2010-05-14 17:07:09|           dan1123|c45dz| null|           3|/r/Conservative/c...|\n",
      "|Is Ron Paul Wrong...|2010-06-18 15:16:30|         [deleted]|cgfgt| null|           0|/r/Conservative/c...|\n",
      "|Two sides critici...|2010-06-22 23:27:18|       DeskofBrian|chxh4| null|           1|/r/Conservative/c...|\n",
      "|The Obama adminis...|2010-07-10 04:58:16|         [deleted]|cnyoj| null|           4|/r/Conservative/c...|\n",
      "|\"Political Advice...|2010-08-30 15:24:32|         caferrell|d799v| null|           9|/r/Conservative/c...|\n",
      "|Gov. Christie Vet...|2010-09-25 16:35:38|         [deleted]|dis7g| null|           0|/r/Conservative/c...|\n",
      "|Forced Abortion I...|2010-10-20 14:44:32|         [deleted]|dtuxi| null|           0|/r/Conservative/c...|\n",
      "+--------------------+-------------------+------------------+-----+-----+------------+--------------------+\n",
      "only showing top 20 rows"
     ]
    }
   ],
   "source": [
    "data.show()"
   ]
  },
  {
   "cell_type": "code",
   "execution_count": 8,
   "metadata": {},
   "outputs": [
    {
     "data": {
      "application/vnd.jupyter.widget-view+json": {
       "model_id": "",
       "version_major": 2,
       "version_minor": 0
      },
      "text/plain": [
       "FloatProgress(value=0.0, bar_style='info', description='Progress:', layout=Layout(height='25px', width='50%'),…"
      ]
     },
     "metadata": {},
     "output_type": "display_data"
    },
    {
     "name": "stdout",
     "output_type": "stream",
     "text": [
      "+--------------------+-------------------+------------------+-----+-----+------------+--------------------+\n",
      "|               title|        date_posted|            author|   id|flare|num_comments|                 url|\n",
      "+--------------------+-------------------+------------------+-----+-----+------------+--------------------+\n",
      "|Men Aren't Allowe...|2008-09-22 19:01:29|          cldnails|72v18| null|           5|/r/Conservative/c...|\n",
      "|Obama's Love Affa...|2009-02-28 15:31:43|           PREZman|810zx| null|           0|/r/Conservative/c...|\n",
      "|Liberals vs. Cons...|2009-03-04 19:10:08|         Ken_Watts|823uf| null|           0|/r/Conservative/c...|\n",
      "|Unlike back-alley...|2009-03-07 00:10:46|           dan1123|82q6t| null|           0|/r/Conservative/c...|\n",
      "|The Immorality of...|2009-07-28 14:04:48|IndustrialEngineer|95ard| null|           0|/r/Conservative/c...|\n",
      "|\"Obama's \"\"Mad\"\" ...|2009-08-28 02:17:31|         [deleted]|9ew0d| null|           0|/r/Conservative/c...|\n",
      "|Views on Abortion...|2009-09-25 04:31:10|         [deleted]|9nwbh| null|           0|/r/Conservative/c...|\n",
      "|Stop Hyding! Abor...|2009-10-08 18:14:44|         [deleted]|9s4x3| null|           0|/r/Conservative/c...|\n",
      "|Speaker Pelosi’s ...|2009-11-05 20:02:14|      unitedstates|a1dcn| null|           0|/r/Conservative/c...|\n",
      "|\"Senator Democrat...|2009-11-19 21:22:09|         [deleted]|a66oz| null|           0|/r/Conservative/c...|\n",
      "|Should abortion b...|2009-12-23 10:33:52|         [deleted]|ahsop| null|          14|/r/Conservative/c...|\n",
      "|  The New York Ti...|2010-03-12 13:45:03|         30Seconds|bcj1g| null|           2|/r/Conservative/c...|\n",
      "|\"NPR memo to all ...|2010-03-29 17:46:07|         [deleted]|bjsrb| null|          43|/r/Conservative/c...|\n",
      "|The New Normal on...|2010-05-14 17:07:09|           dan1123|c45dz| null|           3|/r/Conservative/c...|\n",
      "|Is Ron Paul Wrong...|2010-06-18 15:16:30|         [deleted]|cgfgt| null|           0|/r/Conservative/c...|\n",
      "|Two sides critici...|2010-06-22 23:27:18|       DeskofBrian|chxh4| null|           1|/r/Conservative/c...|\n",
      "|The Obama adminis...|2010-07-10 04:58:16|         [deleted]|cnyoj| null|           4|/r/Conservative/c...|\n",
      "|\"Political Advice...|2010-08-30 15:24:32|         caferrell|d799v| null|           9|/r/Conservative/c...|\n",
      "|Gov. Christie Vet...|2010-09-25 16:35:38|         [deleted]|dis7g| null|           0|/r/Conservative/c...|\n",
      "|Forced Abortion I...|2010-10-20 14:44:32|         [deleted]|dtuxi| null|           0|/r/Conservative/c...|\n",
      "+--------------------+-------------------+------------------+-----+-----+------------+--------------------+\n",
      "only showing top 20 rows"
     ]
    }
   ],
   "source": [
    "# changing the date_posted back to a usable timestamp\n",
    "data = data.withColumn('date_posted', to_timestamp(data['date_posted']))\n",
    "\n",
    "# Show the data\n",
    "data.show()"
   ]
  },
  {
   "cell_type": "code",
   "execution_count": 9,
   "metadata": {},
   "outputs": [
    {
     "data": {
      "application/vnd.jupyter.widget-view+json": {
       "model_id": "",
       "version_major": 2,
       "version_minor": 0
      },
      "text/plain": [
       "FloatProgress(value=0.0, bar_style='info', description='Progress:', layout=Layout(height='25px', width='50%'),…"
      ]
     },
     "metadata": {},
     "output_type": "display_data"
    },
    {
     "name": "stdout",
     "output_type": "stream",
     "text": [
      "root\n",
      " |-- title: string (nullable = true)\n",
      " |-- date_posted: timestamp (nullable = true)\n",
      " |-- author: string (nullable = true)\n",
      " |-- id: string (nullable = true)\n",
      " |-- flare: string (nullable = true)\n",
      " |-- num_comments: integer (nullable = true)\n",
      " |-- url: string (nullable = true)\n",
      " |-- row_id: long (nullable = false)"
     ]
    }
   ],
   "source": [
    "# and changing the ints back to ints\n",
    "data = data.withColumn('num_comments', data['num_comments'].cast('int'))\n",
    "\n",
    "# and giving row ID\n",
    "data = data.withColumn(\"row_id\", monotonically_increasing_id())\n",
    "\n",
    "data.printSchema()"
   ]
  },
  {
   "cell_type": "code",
   "execution_count": 10,
   "metadata": {},
   "outputs": [
    {
     "data": {
      "application/vnd.jupyter.widget-view+json": {
       "model_id": "",
       "version_major": 2,
       "version_minor": 0
      },
      "text/plain": [
       "FloatProgress(value=0.0, bar_style='info', description='Progress:', layout=Layout(height='25px', width='50%'),…"
      ]
     },
     "metadata": {},
     "output_type": "display_data"
    }
   ],
   "source": [
    "# are people posting the same thing? normally an issue within Reddit..\n",
    "duplicates = data.groupBy('title').count().filter('count > 1').sort(desc('count'))"
   ]
  },
  {
   "cell_type": "code",
   "execution_count": 11,
   "metadata": {},
   "outputs": [
    {
     "data": {
      "application/vnd.jupyter.widget-view+json": {
       "model_id": "",
       "version_major": 2,
       "version_minor": 0
      },
      "text/plain": [
       "FloatProgress(value=0.0, bar_style='info', description='Progress:', layout=Layout(height='25px', width='50%'),…"
      ]
     },
     "metadata": {},
     "output_type": "display_data"
    },
    {
     "name": "stdout",
     "output_type": "stream",
     "text": [
      "+--------------------------------------------------+-----+\n",
      "|                                             title|count|\n",
      "+--------------------------------------------------+-----+\n",
      "|                                          Abortion|   18|\n",
      "|Poll: Post-Roe  Large Majorities of Americans C...|    7|\n",
      "|                        Leftist Abortion Hypocrisy|    5|\n",
      "|Trump’s antibody treatment was tested using cel...|    5|\n",
      "|Arrest made in rape of Ohio girl that led to In...|    5|\n",
      "|          10-year-old girl denied abortion in Ohio|    5|\n",
      "|U.S. appeals court upholds Texas ban on second-...|    4|\n",
      "|Billionaire GOP donor calls President Trump 'an...|    4|\n",
      "|The current state of the pro-abortion movement....|    4|\n",
      "|                             Opinions on abortion?|    4|\n",
      "|As Ohio restricts abortions  10-year-old girl t...|    4|\n",
      "|Three Texas women are sued for wrongful death a...|    4|\n",
      "|Opinion: Gender Is A Social Construct  But Only...|    4|\n",
      "|\"Debunking Planned Parenthood's \"\"3%\"\" Abortion...|    3|\n",
      "|Court Ruling Stopping Mail-Order Abortions Coul...|    3|\n",
      "|NYC to become first city to directly fund abort...|    3|\n",
      "|'A Sad and Evil Day': New York Legalizes Aborti...|    3|\n",
      "|Pelosi receives Communion during Vatican mass d...|    3|\n",
      "|                       When is Abortion Justified?|    3|\n",
      "|Pregnant Illinois Rep: Bill Will Allow Abortion...|    3|\n",
      "+--------------------------------------------------+-----+\n",
      "only showing top 20 rows"
     ]
    }
   ],
   "source": [
    "duplicates.show(truncate = 50)"
   ]
  },
  {
   "cell_type": "markdown",
   "metadata": {},
   "source": [
    "People are posting the same article, so there are a decent amount of duplicate appearing posts. Normally, I would drop duplicates. However, knowing Reddit, there is probably unique activity happening within each post.\n",
    "I'm going to check to see if this seems to be happening."
   ]
  },
  {
   "cell_type": "code",
   "execution_count": 12,
   "metadata": {
    "scrolled": true
   },
   "outputs": [
    {
     "data": {
      "application/vnd.jupyter.widget-view+json": {
       "model_id": "",
       "version_major": 2,
       "version_minor": 0
      },
      "text/plain": [
       "FloatProgress(value=0.0, bar_style='info', description='Progress:', layout=Layout(height='25px', width='50%'),…"
      ]
     },
     "metadata": {},
     "output_type": "display_data"
    },
    {
     "name": "stdout",
     "output_type": "stream",
     "text": [
      "+--------------------+------------+-------------------+-------+------------+\n",
      "|               title|      author|        date_posted|     id|num_comments|\n",
      "+--------------------+------------+-------------------+-------+------------+\n",
      "|Poll: Post-Roe  L...|badgarbage61|2023-01-22 16:01:55|10imxcb|           7|\n",
      "|Poll: Post-Roe  L...|   [deleted]|2023-01-22 19:14:24|10irjjy|           3|\n",
      "|Poll: Post-Roe  L...|   [deleted]|2023-01-24 18:10:51|10kbw17|          12|\n",
      "|Poll: Post-Roe  L...|   [deleted]|2023-01-25 15:29:51|10l1afk|           1|\n",
      "|Poll: Post-Roe  L...|   [deleted]|2023-01-25 21:23:01|10la4vq|           0|\n",
      "|Poll: Post-Roe  L...|   [deleted]|2023-01-30 00:30:58|10onmjw|           2|\n",
      "|Poll: Post-Roe  L...|   [deleted]|2023-01-30 13:42:05|10p2hkz|           1|\n",
      "+--------------------+------------+-------------------+-------+------------+"
     ]
    }
   ],
   "source": [
    "double_post = data.filter(data.title == 'Poll: Post-Roe  Large Majorities of Americans Continue to Favor Substantial Abortion Restrictions')\n",
    "double_post.select('title', 'author', 'date_posted', 'id', 'num_comments').show()"
   ]
  },
  {
   "cell_type": "markdown",
   "metadata": {},
   "source": [
    "As you can see, the same article gets posted, but it has different activity each time. I will need the post ID for when I get the comments realted to these posts. Also, if the same article is getting posted a lot it shows that it's important to the conversation, so I am going to keep it."
   ]
  },
  {
   "cell_type": "code",
   "execution_count": 13,
   "metadata": {},
   "outputs": [
    {
     "data": {
      "application/vnd.jupyter.widget-view+json": {
       "model_id": "",
       "version_major": 2,
       "version_minor": 0
      },
      "text/plain": [
       "FloatProgress(value=0.0, bar_style='info', description='Progress:', layout=Layout(height='25px', width='50%'),…"
      ]
     },
     "metadata": {},
     "output_type": "display_data"
    }
   ],
   "source": [
    "# for some reason, 2 lines of headers got added in when I read the csv in. They are not present in the csv, so dropping those\n",
    "data = data.where(data['title'] != 'title')"
   ]
  },
  {
   "cell_type": "code",
   "execution_count": 14,
   "metadata": {},
   "outputs": [
    {
     "data": {
      "application/vnd.jupyter.widget-view+json": {
       "model_id": "",
       "version_major": 2,
       "version_minor": 0
      },
      "text/plain": [
       "FloatProgress(value=0.0, bar_style='info', description='Progress:', layout=Layout(height='25px', width='50%'),…"
      ]
     },
     "metadata": {},
     "output_type": "display_data"
    },
    {
     "name": "stdout",
     "output_type": "stream",
     "text": [
      "+--------------------+-------------------+\n",
      "|               title|        date_posted|\n",
      "+--------------------+-------------------+\n",
      "|\"Abortionist Expe...|2023-12-31 19:10:23|\n",
      "|Ratcheting Up Abo...|2023-12-31 04:51:14|\n",
      "|Legislators in Br...|2023-12-30 22:41:16|\n",
      "|Democrats Will Ma...|2023-12-30 16:35:07|\n",
      "|You can’t just ca...|2023-12-30 15:17:23|\n",
      "|Democrats Will Ma...|2023-12-30 03:18:28|\n",
      "|\"OBGYN Confirms \"...|2023-12-30 03:00:41|\n",
      "|Biden Targets Pro...|2023-12-30 01:47:07|\n",
      "|Permanently banne...|2023-12-30 00:46:19|\n",
      "|Gene Exterminatio...|2023-12-29 19:39:44|\n",
      "|Abortion facility...|2023-12-29 18:36:38|\n",
      "|Abortion facility...|2023-12-29 16:19:53|\n",
      "|Pro-abortion grou...|2023-12-28 13:06:39|\n",
      "|After years of re...|2023-12-28 02:54:54|\n",
      "|Abortion Clinic O...|2023-12-28 02:45:22|\n",
      "|Pro-abortion grou...|2023-12-27 15:24:16|\n",
      "|Abortion  the gif...|2023-12-27 13:00:35|\n",
      "|Wisconsin Distric...|2023-12-27 12:28:50|\n",
      "|Planned Parenthoo...|2023-12-27 04:32:09|\n",
      "|Legal group fight...|2023-12-27 03:48:27|\n",
      "+--------------------+-------------------+\n",
      "only showing top 20 rows"
     ]
    }
   ],
   "source": [
    "recent_data = data.orderBy('date_posted', ascending=False)\n",
    "\n",
    "# not as many users are deleted in the morst recent data, and there are now 'flared user only posts', which makes viewing it a lot more messy:\n",
    "recent_data.select(\"title\", \"date_posted\").show(truncate=True)"
   ]
  },
  {
   "cell_type": "markdown",
   "metadata": {},
   "source": [
    "This data ranges from 2008-09-22 - 2023-12-31. Since I have such a wide range of time, and the user activity has more than likey gone up, it's unfair to compare them. I need to get the total posts for the year, to see what percentage of posts contain 'abortion'"
   ]
  },
  {
   "cell_type": "code",
   "execution_count": 15,
   "metadata": {},
   "outputs": [
    {
     "data": {
      "application/vnd.jupyter.widget-view+json": {
       "model_id": "",
       "version_major": 2,
       "version_minor": 0
      },
      "text/plain": [
       "FloatProgress(value=0.0, bar_style='info', description='Progress:', layout=Layout(height='25px', width='50%'),…"
      ]
     },
     "metadata": {},
     "output_type": "display_data"
    },
    {
     "name": "stdout",
     "output_type": "stream",
     "text": [
      "+----+----------------+\n",
      "|year|total_post_count|\n",
      "+----+----------------+\n",
      "|2008|             109|\n",
      "|2009|            1386|\n",
      "|2010|            3321|\n",
      "|2011|            8264|\n",
      "|2012|           28030|\n",
      "|2013|           35272|\n",
      "|2014|           36812|\n",
      "|2015|           36935|\n",
      "|2016|           49423|\n",
      "|2017|           52231|\n",
      "|2018|           67671|\n",
      "|2019|           90669|\n",
      "|2020|          207024|\n",
      "|2021|          183494|\n",
      "|2022|          137781|\n",
      "|2023|           95441|\n",
      "+----+----------------+"
     ]
    }
   ],
   "source": [
    "# TOTAL POSTS (obtained outside of Spark, on Google Colab)\n",
    "total_posts_overall = [\n",
    "    (2008, 109),\n",
    "    (2009, 1386),\n",
    "    (2010, 3321),\n",
    "    (2011, 8264),\n",
    "    (2012, 28030),\n",
    "    (2013, 35272),\n",
    "    (2014, 36812),\n",
    "    (2015, 36935),\n",
    "    (2016, 49423),\n",
    "    (2017, 52231),\n",
    "    (2018, 67671),\n",
    "    (2019, 90669),\n",
    "    (2020, 207024),\n",
    "    (2021, 183494),\n",
    "    (2022, 137781),\n",
    "    (2023, 95441)\n",
    "]\n",
    "\n",
    "schema = StructType([\n",
    "    StructField(\"year\", IntegerType(), True),\n",
    "    StructField(\"total_post_count\", IntegerType(), True)\n",
    "])\n",
    "\n",
    "total_topic_df = spark.createDataFrame(total_posts_overall, schema)\n",
    "\n",
    "total_topic_df.show()"
   ]
  },
  {
   "cell_type": "code",
   "execution_count": 16,
   "metadata": {},
   "outputs": [
    {
     "data": {
      "application/vnd.jupyter.widget-view+json": {
       "model_id": "",
       "version_major": 2,
       "version_minor": 0
      },
      "text/plain": [
       "FloatProgress(value=0.0, bar_style='info', description='Progress:', layout=Layout(height='25px', width='50%'),…"
      ]
     },
     "metadata": {},
     "output_type": "display_data"
    },
    {
     "name": "stdout",
     "output_type": "stream",
     "text": [
      "+----+-----+\n",
      "|year|count|\n",
      "+----+-----+\n",
      "|2018|  638|\n",
      "|2010|   13|\n",
      "|2011|   34|\n",
      "|2017|  360|\n",
      "|2013|  445|\n",
      "|2020|  748|\n",
      "|2015|  277|\n",
      "|2023| 1957|\n",
      "|2014|  227|\n",
      "|2012|  188|\n",
      "|2016|  274|\n",
      "|2021| 1126|\n",
      "|2022| 2585|\n",
      "|2019| 1488|\n",
      "|2009|   10|\n",
      "|2008|    1|\n",
      "+----+-----+"
     ]
    }
   ],
   "source": [
    "# Abortion data\n",
    "year_df = data.withColumn('year', year('date_posted'))\n",
    "\n",
    "posts_per_year = year_df.groupBy('year').agg(count('*').alias('count'))\n",
    "\n",
    "posts_per_year.show()"
   ]
  },
  {
   "cell_type": "code",
   "execution_count": 17,
   "metadata": {},
   "outputs": [
    {
     "data": {
      "application/vnd.jupyter.widget-view+json": {
       "model_id": "",
       "version_major": 2,
       "version_minor": 0
      },
      "text/plain": [
       "FloatProgress(value=0.0, bar_style='info', description='Progress:', layout=Layout(height='25px', width='50%'),…"
      ]
     },
     "metadata": {},
     "output_type": "display_data"
    },
    {
     "name": "stdout",
     "output_type": "stream",
     "text": [
      "Total count of posts: 10371"
     ]
    }
   ],
   "source": [
    "total_posts = posts_per_year.agg(F.sum('count')).collect()[0][0]\n",
    "# making sure that matches\n",
    "print(\"Total count of posts:\", total_posts)"
   ]
  },
  {
   "cell_type": "code",
   "execution_count": 18,
   "metadata": {},
   "outputs": [
    {
     "data": {
      "application/vnd.jupyter.widget-view+json": {
       "model_id": "",
       "version_major": 2,
       "version_minor": 0
      },
      "text/plain": [
       "FloatProgress(value=0.0, bar_style='info', description='Progress:', layout=Layout(height='25px', width='50%'),…"
      ]
     },
     "metadata": {},
     "output_type": "display_data"
    },
    {
     "name": "stdout",
     "output_type": "stream",
     "text": [
      "+----+----------------+-----+\n",
      "|year|total_post_count|count|\n",
      "+----+----------------+-----+\n",
      "|2008|             109|    1|\n",
      "|2009|            1386|   10|\n",
      "|2010|            3321|   13|\n",
      "|2011|            8264|   34|\n",
      "|2012|           28030|  188|\n",
      "|2013|           35272|  445|\n",
      "|2014|           36812|  227|\n",
      "|2015|           36935|  277|\n",
      "|2016|           49423|  274|\n",
      "|2017|           52231|  360|\n",
      "|2018|           67671|  638|\n",
      "|2019|           90669| 1488|\n",
      "|2020|          207024|  748|\n",
      "|2021|          183494| 1126|\n",
      "|2022|          137781| 2585|\n",
      "|2023|           95441| 1957|\n",
      "+----+----------------+-----+"
     ]
    }
   ],
   "source": [
    "# the dfs joined together (total and containing 'abortion')\n",
    "joined = total_topic_df.join(posts_per_year, 'year', 'inner')\n",
    "joined.show()"
   ]
  },
  {
   "cell_type": "code",
   "execution_count": 21,
   "metadata": {},
   "outputs": [
    {
     "data": {
      "application/vnd.jupyter.widget-view+json": {
       "model_id": "",
       "version_major": 2,
       "version_minor": 0
      },
      "text/plain": [
       "FloatProgress(value=0.0, bar_style='info', description='Progress:', layout=Layout(height='25px', width='50%'),…"
      ]
     },
     "metadata": {},
     "output_type": "display_data"
    },
    {
     "name": "stdout",
     "output_type": "stream",
     "text": [
      "+----+----------------+-----+-------+\n",
      "|year|total_post_count|count|Percent|\n",
      "+----+----------------+-----+-------+\n",
      "|2008|             109|    1|   0.92|\n",
      "|2009|            1386|   10|   0.72|\n",
      "|2010|            3321|   13|   0.39|\n",
      "|2011|            8264|   34|   0.41|\n",
      "|2012|           28030|  188|   0.67|\n",
      "|2013|           35272|  445|   1.26|\n",
      "|2014|           36812|  227|   0.62|\n",
      "|2015|           36935|  277|   0.75|\n",
      "|2016|           49423|  274|   0.55|\n",
      "|2017|           52231|  360|   0.69|\n",
      "|2018|           67671|  638|   0.94|\n",
      "|2019|           90669| 1488|   1.64|\n",
      "|2020|          207024|  748|   0.36|\n",
      "|2021|          183494| 1126|   0.61|\n",
      "|2022|          137781| 2585|   1.88|\n",
      "|2023|           95441| 1957|   2.05|\n",
      "+----+----------------+-----+-------+"
     ]
    }
   ],
   "source": [
    "percent_df = joined.withColumn('Percent', (col('count') / col('total_post_count')) * 100)\n",
    "\n",
    "percent_df = percent_df.withColumn('Percent', round(percent_df['Percent'], 2))\n",
    "\n",
    "percent_df.show()"
   ]
  },
  {
   "cell_type": "code",
   "execution_count": 22,
   "metadata": {},
   "outputs": [
    {
     "data": {
      "application/vnd.jupyter.widget-view+json": {
       "model_id": "",
       "version_major": 2,
       "version_minor": 0
      },
      "text/plain": [
       "FloatProgress(value=0.0, bar_style='info', description='Progress:', layout=Layout(height='25px', width='50%'),…"
      ]
     },
     "metadata": {},
     "output_type": "display_data"
    }
   ],
   "source": [
    "# setting up to plot\n",
    "percent_df_pd = percent_df.toPandas()"
   ]
  },
  {
   "cell_type": "code",
   "execution_count": 23,
   "metadata": {},
   "outputs": [
    {
     "data": {
      "application/vnd.jupyter.widget-view+json": {
       "model_id": "",
       "version_major": 2,
       "version_minor": 0
      },
      "text/plain": [
       "FloatProgress(value=0.0, bar_style='info', description='Progress:', layout=Layout(height='25px', width='50%'),…"
      ]
     },
     "metadata": {},
     "output_type": "display_data"
    },
    {
     "data": {
      "image/png": "[encoded data removed]",
      "text/plain": [
       "<IPython.core.display.Image object>"
      ]
     },
     "metadata": {},
     "output_type": "display_data"
    }
   ],
   "source": [
    "import seaborn as sns\n",
    "\n",
    "sns.set(style=\"whitegrid\")\n",
    "\n",
    "plt.figure(figsize=(10, 6))\n",
    "sns.barplot(x='year', y='Percent', data=percent_df_pd, color='skyblue')\n",
    "plt.xlabel('Year', fontsize=15)\n",
    "plt.ylabel('Percentage', fontsize=15)\n",
    "plt.title('Percentage of Posts with \"Abortion\" in Title', fontsize=20)\n",
    "plt.xticks(rotation=45, size=13)\n",
    "plt.yticks(size=13)\n",
    "plt.tight_layout()\n",
    "%matplot plt"
   ]
  },
  {
   "cell_type": "markdown",
   "metadata": {},
   "source": [
    "As suspected, the SCOTUS leak/ruling in 2022 caused a huge upward trend in abortion posts. It's interesting that there isn't really a pattern to the discussion, though. This might suggest that abortion has remained a topic of political coversation since it became politicized in the 1980s. \n",
    "\n",
    "I want to check at a few of the years that I am not sure why they show higher averages."
   ]
  },
  {
   "cell_type": "code",
   "execution_count": 24,
   "metadata": {},
   "outputs": [
    {
     "data": {
      "application/vnd.jupyter.widget-view+json": {
       "model_id": "",
       "version_major": 2,
       "version_minor": 0
      },
      "text/plain": [
       "FloatProgress(value=0.0, bar_style='info', description='Progress:', layout=Layout(height='25px', width='50%'),…"
      ]
     },
     "metadata": {},
     "output_type": "display_data"
    },
    {
     "name": "stdout",
     "output_type": "stream",
     "text": [
      "+-----------------------------------------------------------------------------------------------------------------------------------------------------------------------------------------+\n",
      "|title                                                                                                                                                                                    |\n",
      "+-----------------------------------------------------------------------------------------------------------------------------------------------------------------------------------------+\n",
      "|Shocking Time Magazine Cover: After 40 Years  Abortion Activists Losing                                                                                                                  |\n",
      "|Shocking Time Magazine Cover: After 40 Years  Abortion Activists Losing | LifeNews.com                                                                                                   |\n",
      "|I propose an alliance between the Pro-Abortion people and Pro-2nd Amendment people                                                                                                       |\n",
      "|Pregnancy Centers Gain Influence in Anti-Abortion Arena                                                                                                                                  |\n",
      "|Coulter Tears Into Liberal Gun Hypocrisy: Why Can’t We Publish List Of Women Who Get Abortions?                                                                                          |\n",
      "|Turns out opposing abortion in cases of rape isn’t so extreme after all                                                                                                                  |\n",
      "|\"As Senate Candidate  Hagel Opposed Abortion Even In Cases Of Rape Because It Was \"\"Rare\"\"\"                                                                                              |\n",
      "|Planned Parenthood's New Annual Report: We Did 333 964 Abortions; 1 Every 94 Seconds                                                                                                     |\n",
      "|‘I Had an Abortion’ Shirt Sales Stir Controversy at University of North Carolina Wilmington | TheBlaze.com                                                                               |\n",
      "|Planned Parenthood reports record year for abortions                                                                                                                                     |\n",
      "|Limbaugh Asks CNN: How Would You React If Bush/Cheney Tried To Use Executive Order On Abortion?                                                                                          |\n",
      "|More than four in five Americans support major limitations on abortion  poll shows                                                                                                       |\n",
      "| Head of Pro-Abortion Group Caught Arranging Sex With Child                                                                                                                              |\n",
      "|Liberal Gene Found: Let the Abortions Begin | The Stir                                                                                                                                   |\n",
      "|Ann Coulter on Hannity: Publish List Of Women Who Get Abortions                                                                                                                          |\n",
      "|Gendercide in the UK thanks to widespread abortion                                                                                                                                       |\n",
      "|Graphic Autopsy Images Released of Woman Dying From Legal Abortion                                                                                                                       |\n",
      "|Poll: More Than Four in Five Americans Support Major Limitations on Abortion                                                                                                             |\n",
      "|Access to emergency contraception led to a statistically significant increase in STD rates (gonorrhea rates)  both overall and for females. It had no impact on abortion or birth rates. |\n",
      "|Whether by Gun or Abortion  Murder Is Murder - Period                                                                                                                                    |\n",
      "+-----------------------------------------------------------------------------------------------------------------------------------------------------------------------------------------+\n",
      "only showing top 20 rows"
     ]
    }
   ],
   "source": [
    "# checking on 2013, seeing if I can see anything\n",
    "posts_2013 = data.filter(F.year(data['date_posted']) == 2013)\n",
    "posts_2013.select('title').show(truncate=False)"
   ]
  },
  {
   "cell_type": "code",
   "execution_count": 25,
   "metadata": {},
   "outputs": [
    {
     "data": {
      "application/vnd.jupyter.widget-view+json": {
       "model_id": "",
       "version_major": 2,
       "version_minor": 0
      },
      "text/plain": [
       "FloatProgress(value=0.0, bar_style='info', description='Progress:', layout=Layout(height='25px', width='50%'),…"
      ]
     },
     "metadata": {},
     "output_type": "display_data"
    },
    {
     "name": "stdout",
     "output_type": "stream",
     "text": [
      "+----------------------------------------------------------------------------------------------------------------------------------------------------------------------------------------------------------------------------------------------------------------------------------------------------+\n",
      "|title                                                                                                                                                                                                                                                                                               |\n",
      "+----------------------------------------------------------------------------------------------------------------------------------------------------------------------------------------------------------------------------------------------------------------------------------------------------+\n",
      "|'Pro-Life’ Abortion Activist Tells Kids: Abortion Is ‘God’s Plan’                                                                                                                                                                                                                                   |\n",
      "|While the Left frets about the inhumanity of President Trump's immigration policy and the cruelty of ICE  let it be known that 42 million people died from abortions in 2018. Those numbers exceed deaths related to cancer  HIV/AIDS  traffic accidents  and suicide.                              |\n",
      "|Abortion Leading Cause of Death in 2018 with 41 Million Killed                                                                                                                                                                                                                                      |\n",
      "|\"Amelia Bonow... The pro-abortion activist’s video is entitled  “Kids Meet Someone Who Has Had an Abortion.” Part of the of “Kids Meet” series run by the Seattle-based HiHo Kids. \"\"“You go to the doctor and they put this little straw inside of you.. It was like a crappy dentist appointment”\"|\n",
      "|#ShoutYourAbortion Founder Tells Kid Terminating a Pregnancy is 'Part of God's Plan'                                                                                                                                                                                                                |\n",
      "|Democrats are Attempting to Restore Millions of Dollars for Overseas Abortions As They Refuse to Give Funding to Border Security                                                                                                                                                                    |\n",
      "|'Shout Your Abortion' Movement Targets Children in Creepy Video                                                                                                                                                                                                                                     |\n",
      "|Disgraceful: Seven House Republicans vote for Democrat bill funding abortions overseas                                                                                                                                                                                                              |\n",
      "|Abortions leading cause of death worldwide                                                                                                                                                                                                                                                          |\n",
      "|The New York Times’ Astonishing Series on Abortion -- It is clearly the most rabid defense of abortion ever published by the mainstream media                                                                                                                                                       |\n",
      "|You've heard of liberals refusing to vaccinate their kids  now get ready for liberals doing DIY abortions. It's empowering women or something.                                                                                                                                                      |\n",
      "|Abortion in Ireland                                                                                                                                                                                                                                                                                 |\n",
      "|Hillary Clinton Wants New York State to Legalize Abortions Up to Birth                                                                                                                                                                                                                              |\n",
      "|95% of doctors in Ireland refuse to preform abortions                                                                                                                                                                                                                                               |\n",
      "|\"Happy Warrior Podcast: 026 \"\"Schadenfreude\"\" w/ Crazy Abortion Lady  the Death of the Women's March  and Doctor Who Season11 Review! ________True Conservative Podcast for all time!__________\"                                                                                                    |\n",
      "|“First  our core mission is providing  protecting and expanding access to abortion\"\"                                                                                                                                                                                                                |\n",
      "|Clinton/Cuomo Bill To Legalize Abortions Up Until Birth In NYC                                                                                                                                                                                                                                      |\n",
      "|Sen. Blackburn Targets Abortion Providers in Her First Senate Bill                                                                                                                                                                                                                                  |\n",
      "|Abortions don't have to be an emotional ordeal?                                                                                                                                                                                                                                                     |\n",
      "|Leftist Grandmothers Launch New Group to Promote Abortion - Want their Grandkids Aborted                                                                                                                                                                                                            |\n",
      "+----------------------------------------------------------------------------------------------------------------------------------------------------------------------------------------------------------------------------------------------------------------------------------------------------+\n",
      "only showing top 20 rows"
     ]
    }
   ],
   "source": [
    "# checking on 2019, seeing if I can see anything\n",
    "posts_2019 = data.filter(F.year(data['date_posted']) == 2019)\n",
    "posts_2019.select('title').show(truncate=False)"
   ]
  },
  {
   "cell_type": "code",
   "execution_count": 26,
   "metadata": {},
   "outputs": [
    {
     "data": {
      "application/vnd.jupyter.widget-view+json": {
       "model_id": "",
       "version_major": 2,
       "version_minor": 0
      },
      "text/plain": [
       "FloatProgress(value=0.0, bar_style='info', description='Progress:', layout=Layout(height='25px', width='50%'),…"
      ]
     },
     "metadata": {},
     "output_type": "display_data"
    },
    {
     "name": "stdout",
     "output_type": "stream",
     "text": [
      "+---------------------------------------------------------------------------------------------------------+\n",
      "|title                                                                                                    |\n",
      "+---------------------------------------------------------------------------------------------------------+\n",
      "|I propose an alliance between the Pro-Abortion people and Pro-2nd Amendment people                       |\n",
      "|Pregnancy Centers Gain Influence in Anti-Abortion Arena                                                  |\n",
      "|\"As Senate Candidate  Hagel Opposed Abortion Even In Cases Of Rape Because It Was \"\"Rare\"\"\"              |\n",
      "|Planned Parenthood reports record year for abortions                                                     |\n",
      "|More than four in five Americans support major limitations on abortion  poll shows                       |\n",
      "|Liberal Gene Found: Let the Abortions Begin | The Stir                                                   |\n",
      "|Gendercide in the UK thanks to widespread abortion                                                       |\n",
      "|Whether by Gun or Abortion  Murder Is Murder - Period                                                    |\n",
      "|Justin Bieber’s Mom Hopes to ‘Encourage Young Women All Over the World’ With New Anti-Abortion Film      |\n",
      "|3801 Lancaster: A documentary about abortionist Kermit Gosnell's victimization of poor women in Philly   |\n",
      "|Reclaiming the Human Center of the Abortion Debate (x-post)                                              |\n",
      "|Research on illegal and legal abortion deaths (x-post prolife)                                           |\n",
      "|Selective Abortion To Create Master Race: Progressive Academic Pushes For Moral Enhancement              |\n",
      "|Andrew Cuomo: Abortion Practices Override Moral and Religious Objections                                 |\n",
      "|Breitbart on How Being Adopted Shaped His Views on Abortion                                              |\n",
      "|New Pope: No Communion for Pro-Abortion Politicians                                                      |\n",
      "|Richard Dawkins Ignites Firestorm With ‘Pro-Abortion’ Tweets: ‘Any Fetus Is Less Human Than an Adult Pig’|\n",
      "|New data reveal scale of China abortions                                                                 |\n",
      "|Praying Catholic Grandma Violently Attacked at Planned Parenthood While Filming Botched Abortion Incident|\n",
      "|Abortion doctor plays race card as murder trial begins                                                   |\n",
      "+---------------------------------------------------------------------------------------------------------+\n",
      "only showing top 20 rows"
     ]
    }
   ],
   "source": [
    "# didnt see anything out of the ordinary, so going to sample a few times to see if that changes\n",
    "sample = posts_2013.sample(fraction=.25)\n",
    "sample.select('title').show(truncate=False)"
   ]
  },
  {
   "cell_type": "code",
   "execution_count": 28,
   "metadata": {},
   "outputs": [
    {
     "data": {
      "application/vnd.jupyter.widget-view+json": {
       "model_id": "",
       "version_major": 2,
       "version_minor": 0
      },
      "text/plain": [
       "FloatProgress(value=0.0, bar_style='info', description='Progress:', layout=Layout(height='25px', width='50%'),…"
      ]
     },
     "metadata": {},
     "output_type": "display_data"
    },
    {
     "name": "stdout",
     "output_type": "stream",
     "text": [
      "+-------------------------------------------------------------------------------------------------------------------------------------------------------------------------------------------------------------------------------------------------------------------------------------------+\n",
      "|title                                                                                                                                                                                                                                                                                      |\n",
      "+-------------------------------------------------------------------------------------------------------------------------------------------------------------------------------------------------------------------------------------------------------------------------------------------+\n",
      "|Abortions leading cause of death worldwide                                                                                                                                                                                                                                                 |\n",
      "|Abortion in Ireland                                                                                                                                                                                                                                                                        |\n",
      "|Abortions don't have to be an emotional ordeal?                                                                                                                                                                                                                                            |\n",
      "|New Poll: Most Americans Support Abortion Bans After First Trimester                                                                                                                                                                                                                       |\n",
      "|New York Law to Make Abortion a ‘Fundamental Right’                                                                                                                                                                                                                                        |\n",
      "|Pro-Life Activist Left Bloody Outside Abortion Clinic After Saying 'Jesus Loves You'                                                                                                                                                                                                       |\n",
      "|This is how leftists legalise AFTER BIRTH abortion.                                                                                                                                                                                                                                        |\n",
      "|March for Life: Thousands protest abortion in Paris                                                                                                                                                                                                                                        |\n",
      "|Abortion Must END In 2019 | Huckabee                                                                                                                                                                                                                                                       |\n",
      "|Reps. Scott and Green released a draft bill this morning to amend Idaho homicide law to remove a section that prohibits prosecuting abortions and add one saying the state has the authority to nullify federal laws allowing abortion                                                     |\n",
      "|New York Senate Passes Bill Legalizing Abortions Up to Birth                                                                                                                                                                                                                               |\n",
      "|One World Trade Center Lit Up in Pink to Celebrate NY Abortion Law                                                                                                                                                                                                                         |\n",
      "|NY passes extensive abortion bill that includes  abortion to birth  dismemberment and allows non-medical workers to perform abortions.                                                                                                                                                     |\n",
      "|New Law Makes It Easier For New Yorkers To Get Third-Trimester Abortions -- Not as if New York doesn’t perform enough abortions already. In 2016  practitioners in the state performed 82 189 abortions. In 2015  there were 392 abortions for every 1 000 live births in the entire state.|\n",
      "|WALSH: It’s Time To Finally Legalize Post-Birth Abortion | Daily Wire                                                                                                                                                                                                                      |\n",
      "|Proposed Idaho Law Would Treat Abortion as Murder                                                                                                                                                                                                                                          |\n",
      "|Catholic leaders call for excommunication of Gov. Cuomo over extreme abortion  but NY Archbishop says ‘what’s the use?’                                                                                                                                                                    |\n",
      "|D'oh! CBS's Doane Claims Pope Francis 'Spoke Out Strongly in Favor of Abortion'                                                                                                                                                                                                            |\n",
      "|Why Pro-Lifers Are Right About Abortion Even If They Are Hypocrites -- Turning the debate away from the reality of abortion to questions of whether pro-lifers are sufficiently consistent or charitable is just a diversion.                                                              |\n",
      "|Rush Limbaugh on NY Abortion Law: ‘Here’s Why Liberals Are Cheering Murder’                                                                                                                                                                                                                |\n",
      "+-------------------------------------------------------------------------------------------------------------------------------------------------------------------------------------------------------------------------------------------------------------------------------------------+\n",
      "only showing top 20 rows"
     ]
    }
   ],
   "source": [
    "sample = posts_2019.sample(fraction=.25)\n",
    "sample.select('title').show(truncate=False)"
   ]
  },
  {
   "cell_type": "markdown",
   "metadata": {},
   "source": [
    "There are two major trends seen in these years. First, in 2013 there are a lot of posts pertaining to the criminal trial of Kermit Gosnell, who an abortion doctor turned murderer. \n",
    "\n",
    "In 2019, a lot of the discourse seems to center New York passing a Reproductive Health Act, legalizing codifying abortion within the state.\n",
    "\n",
    "Both of these events seem to have caused an unexpected upward trend.\n",
    "\n",
    "I am also interested in seeing the most commented on post for each year, as that could tell us something about discourse."
   ]
  },
  {
   "cell_type": "markdown",
   "metadata": {},
   "source": [
    "# Starting NLP"
   ]
  },
  {
   "cell_type": "code",
   "execution_count": 30,
   "metadata": {},
   "outputs": [
    {
     "data": {
      "application/vnd.jupyter.widget-view+json": {
       "model_id": "",
       "version_major": 2,
       "version_minor": 0
      },
      "text/plain": [
       "FloatProgress(value=0.0, bar_style='info', description='Progress:', layout=Layout(height='25px', width='50%'),…"
      ]
     },
     "metadata": {},
     "output_type": "display_data"
    }
   ],
   "source": [
    "# checking to see stopwords\n",
    "stopwords = StopWordsCleaner().getStopWords()\n",
    "\n",
    "# adding abortion, bc its mentioned in every title and might throw off model\n",
    "stopwords.append('abortion')\n",
    "stopwords.append('abortions')\n",
    "stopwords.append('im')\n",
    "stopwords.append('v')\n",
    "stopwords.append('V')"
   ]
  },
  {
   "cell_type": "code",
   "execution_count": 31,
   "metadata": {},
   "outputs": [
    {
     "data": {
      "application/vnd.jupyter.widget-view+json": {
       "model_id": "",
       "version_major": 2,
       "version_minor": 0
      },
      "text/plain": [
       "FloatProgress(value=0.0, bar_style='info', description='Progress:', layout=Layout(height='25px', width='50%'),…"
      ]
     },
     "metadata": {},
     "output_type": "display_data"
    }
   ],
   "source": [
    "# setting up pipeline\n",
    "\n",
    "# creating new col\n",
    "document_assembler = DocumentAssembler() \\\n",
    "    .setInputCol(\"title\") \\\n",
    "    .setOutputCol(\"document\")\n",
    "\n",
    "# transforming col\n",
    "tokenizer = Tokenizer() \\\n",
    "    .setInputCols([\"document\"]) \\\n",
    "    .setOutputCol(\"token\")\n",
    "\n",
    "# taking out stop words\n",
    "stopwords_cleaner = StopWordsCleaner()\\\n",
    "      .setInputCols(\"token\")\\\n",
    "      .setOutputCol(\"stopworded\")\\\n",
    "      .setStopWords(stopwords) \\\n",
    "      .setCaseSensitive(False)\n",
    "\n",
    "# normalizing col\n",
    "normalizer = Normalizer() \\\n",
    "    .setInputCols(['stopworded']) \\\n",
    "    .setOutputCol(\"normalized\") \\\n",
    "    .setLowercase(True)\n",
    "\n",
    "# finishing\n",
    "finisher = Finisher() \\\n",
    "    .setInputCols([\"normalized\"]) \\\n",
    "    .setOutputCols([\"tokens\"]) \\\n",
    "    .setOutputAsArray(True) \\\n",
    "    .setCleanAnnotations(False)"
   ]
  },
  {
   "cell_type": "code",
   "execution_count": 32,
   "metadata": {},
   "outputs": [
    {
     "data": {
      "application/vnd.jupyter.widget-view+json": {
       "model_id": "",
       "version_major": 2,
       "version_minor": 0
      },
      "text/plain": [
       "FloatProgress(value=0.0, bar_style='info', description='Progress:', layout=Layout(height='25px', width='50%'),…"
      ]
     },
     "metadata": {},
     "output_type": "display_data"
    }
   ],
   "source": [
    "nlp_pipeline = Pipeline(\n",
    "    stages=[document_assembler, \n",
    "            tokenizer,\n",
    "            stopwords_cleaner,\n",
    "            normalizer,\n",
    "            finisher])"
   ]
  },
  {
   "cell_type": "code",
   "execution_count": 33,
   "metadata": {},
   "outputs": [
    {
     "data": {
      "application/vnd.jupyter.widget-view+json": {
       "model_id": "",
       "version_major": 2,
       "version_minor": 0
      },
      "text/plain": [
       "FloatProgress(value=0.0, bar_style='info', description='Progress:', layout=Layout(height='25px', width='50%'),…"
      ]
     },
     "metadata": {},
     "output_type": "display_data"
    }
   ],
   "source": [
    "nlp_model = nlp_pipeline.fit(data)\n",
    "processed_df  = nlp_model.transform(data)"
   ]
  },
  {
   "cell_type": "code",
   "execution_count": 34,
   "metadata": {},
   "outputs": [
    {
     "data": {
      "application/vnd.jupyter.widget-view+json": {
       "model_id": "",
       "version_major": 2,
       "version_minor": 0
      },
      "text/plain": [
       "FloatProgress(value=0.0, bar_style='info', description='Progress:', layout=Layout(height='25px', width='50%'),…"
      ]
     },
     "metadata": {},
     "output_type": "display_data"
    },
    {
     "name": "stdout",
     "output_type": "stream",
     "text": [
      "+--------------------+-------------------+--------------------+\n",
      "|               title|        date_posted|              tokens|\n",
      "+--------------------+-------------------+--------------------+\n",
      "|Men Aren't Allowe...|2008-09-22 19:01:29|[men, allowed, talk]|\n",
      "|Obama's Love Affa...|2009-02-28 15:31:43|[obamas, love, af...|\n",
      "|Liberals vs. Cons...|2009-03-04 19:10:08|[liberals, vs, co...|\n",
      "|Unlike back-alley...|2009-03-07 00:10:46|[unlike, backalle...|\n",
      "|The Immorality of...|2009-07-28 14:04:48|[immorality, taxp...|\n",
      "|\"Obama's \"\"Mad\"\" ...|2009-08-28 02:17:31|[obamas, mad, sci...|\n",
      "|Views on Abortion...|2009-09-25 04:31:10|[views, foreign, ...|\n",
      "|Stop Hyding! Abor...|2009-10-08 18:14:44|[stop, hyding, he...|\n",
      "|Speaker Pelosi’s ...|2009-11-05 20:02:14|[speaker, pelosis...|\n",
      "|\"Senator Democrat...|2009-11-19 21:22:09|[senator, democra...|\n",
      "|Should abortion b...|2009-12-23 10:33:52|             [legal]|\n",
      "|  The New York Ti...|2010-03-12 13:45:03|[new, york, times...|\n",
      "|\"NPR memo to all ...|2010-03-29 17:46:07|[npr, memo, staff...|\n",
      "|The New Normal on...|2010-05-14 17:07:09|[new, normal, ame...|\n",
      "|Is Ron Paul Wrong...|2010-06-18 15:16:30|  [ron, paul, wrong]|\n",
      "|Two sides critici...|2010-06-22 23:27:18|[two, sides, crit...|\n",
      "|The Obama adminis...|2010-07-10 04:58:16|[obama, administr...|\n",
      "|\"Political Advice...|2010-08-30 15:24:32|[political, advic...|\n",
      "|Gov. Christie Vet...|2010-09-25 16:35:38|[gov, christie, v...|\n",
      "|Forced Abortion I...|2010-10-20 14:44:32|     [forced, china]|\n",
      "+--------------------+-------------------+--------------------+\n",
      "only showing top 20 rows"
     ]
    }
   ],
   "source": [
    "# too messy (bc of how many cols) to look at holistically, just looking at main ones for now\n",
    "processed_df.select(\"title\", \"date_posted\", \"tokens\").show()"
   ]
  },
  {
   "cell_type": "code",
   "execution_count": 35,
   "metadata": {},
   "outputs": [
    {
     "data": {
      "application/vnd.jupyter.widget-view+json": {
       "model_id": "",
       "version_major": 2,
       "version_minor": 0
      },
      "text/plain": [
       "FloatProgress(value=0.0, bar_style='info', description='Progress:', layout=Layout(height='25px', width='50%'),…"
      ]
     },
     "metadata": {},
     "output_type": "display_data"
    },
    {
     "name": "stdout",
     "output_type": "stream",
     "text": [
      "Total Columns: 13\n",
      "Total Rows: 10371\n",
      "root\n",
      " |-- title: string (nullable = true)\n",
      " |-- date_posted: timestamp (nullable = true)\n",
      " |-- author: string (nullable = true)\n",
      " |-- id: string (nullable = true)\n",
      " |-- flare: string (nullable = true)\n",
      " |-- num_comments: integer (nullable = true)\n",
      " |-- url: string (nullable = true)\n",
      " |-- row_id: long (nullable = false)"
     ]
    }
   ],
   "source": [
    "print('Total Columns: %d' % len(processed_df.dtypes))\n",
    "print('Total Rows: %d' % processed_df.count())\n",
    "data.printSchema()"
   ]
  },
  {
   "cell_type": "code",
   "execution_count": 36,
   "metadata": {},
   "outputs": [
    {
     "data": {
      "application/vnd.jupyter.widget-view+json": {
       "model_id": "",
       "version_major": 2,
       "version_minor": 0
      },
      "text/plain": [
       "FloatProgress(value=0.0, bar_style='info', description='Progress:', layout=Layout(height='25px', width='50%'),…"
      ]
     },
     "metadata": {},
     "output_type": "display_data"
    }
   ],
   "source": [
    "tokens_df = processed_df.select('tokens')"
   ]
  },
  {
   "cell_type": "code",
   "execution_count": 37,
   "metadata": {},
   "outputs": [
    {
     "data": {
      "application/vnd.jupyter.widget-view+json": {
       "model_id": "",
       "version_major": 2,
       "version_minor": 0
      },
      "text/plain": [
       "FloatProgress(value=0.0, bar_style='info', description='Progress:', layout=Layout(height='25px', width='50%'),…"
      ]
     },
     "metadata": {},
     "output_type": "display_data"
    },
    {
     "name": "stdout",
     "output_type": "stream",
     "text": [
      "+--------------------+--------------------+\n",
      "|              tokens|            features|\n",
      "+--------------------+--------------------+\n",
      "|[men, allowed, talk]|(1000,[103,479],[...|\n",
      "|[obamas, love, af...|  (1000,[413],[1.0])|\n",
      "|[liberals, vs, co...|(1000,[146,166,34...|\n",
      "|[unlike, backalle...|(1000,[65,321,988...|\n",
      "|[immorality, taxp...|  (1000,[519],[1.0])|\n",
      "|[obamas, mad, sci...|  (1000,[453],[1.0])|\n",
      "|[views, foreign, ...|(1000,[212,377],[...|\n",
      "|[stop, hyding, he...|(1000,[59,73,81],...|\n",
      "|[speaker, pelosis...|(1000,[73,266],[1...|\n",
      "|[senator, democra...|(1000,[73,164,250...|\n",
      "|             [legal]|   (1000,[65],[1.0])|\n",
      "|[new, york, times...|(1000,[9,78,96,15...|\n",
      "|[npr, memo, staff...|(1000,[6,21,232,6...|\n",
      "|[new, normal, ame...|(1000,[6,9,63],[1...|\n",
      "|  [ron, paul, wrong]|(1000,[270,495,72...|\n",
      "|[two, sides, crit...|(1000,[202,951],[...|\n",
      "|[obama, administr...|(1000,[9,171,190,...|\n",
      "|[political, advic...|(1000,[21,60,157,...|\n",
      "|[gov, christie, v...|(1000,[16,39,566,...|\n",
      "|     [forced, china]|(1000,[149,637],[...|\n",
      "+--------------------+--------------------+\n",
      "only showing top 20 rows"
     ]
    }
   ],
   "source": [
    "# count vectorizing\n",
    "cv = CountVectorizer(inputCol=\"tokens\", outputCol=\"features\", vocabSize=1000, minDF = 5.0)\n",
    "\n",
    "# fitting model\n",
    "cv_model = cv.fit(tokens_df)\n",
    "\n",
    "# transforming\n",
    "vectorized_tokens = cv_model.transform(tokens_df)\n",
    "\n",
    "# results, truncating for readibility\n",
    "vectorized_tokens.select(\"tokens\", \"features\").show(truncate=True)"
   ]
  },
  {
   "cell_type": "markdown",
   "metadata": {},
   "source": [
    "# Starting LDA"
   ]
  },
  {
   "cell_type": "code",
   "execution_count": 39,
   "metadata": {},
   "outputs": [
    {
     "data": {
      "application/vnd.jupyter.widget-view+json": {
       "model_id": "",
       "version_major": 2,
       "version_minor": 0
      },
      "text/plain": [
       "FloatProgress(value=0.0, bar_style='info', description='Progress:', layout=Layout(height='25px', width='50%'),…"
      ]
     },
     "metadata": {},
     "output_type": "display_data"
    }
   ],
   "source": [
    "# STARTING LDA\n",
    "from pyspark.ml.clustering import LDA\n",
    "\n",
    "num_topics = 10\n",
    "lda = LDA(k=num_topics, maxIter=100, seed = 13)\n",
    "model = lda.fit(vectorized_tokens)"
   ]
  },
  {
   "cell_type": "code",
   "execution_count": null,
   "metadata": {},
   "outputs": [],
   "source": [
    "# from pyspark.sql.functions import udf\n",
    "# from pyspark.sql.types import ArrayType, StringType"
   ]
  },
  {
   "cell_type": "code",
   "execution_count": 40,
   "metadata": {},
   "outputs": [
    {
     "data": {
      "application/vnd.jupyter.widget-view+json": {
       "model_id": "",
       "version_major": 2,
       "version_minor": 0
      },
      "text/plain": [
       "FloatProgress(value=0.0, bar_style='info', description='Progress:', layout=Layout(height='25px', width='50%'),…"
      ]
     },
     "metadata": {},
     "output_type": "display_data"
    },
    {
     "name": "stdout",
     "output_type": "stream",
     "text": [
      "+-----+----------------------------------------------------------------------------------------+\n",
      "|topic|words                                                                                   |\n",
      "+-----+----------------------------------------------------------------------------------------+\n",
      "|0    |[biden, proabortion, new, trump, catholic, joe, news, banned, administration, campaign] |\n",
      "|1    |[murder, rape, child, argument, pro, choice, change, prochoice, ny, good]               |\n",
      "|2    |[bill, support, birth, democrats, want, americans, house, vote, democrat, poll]         |\n",
      "|3    |[babies, people, killing, roe, like, lateterm, left, one, think, baby]                  |\n",
      "|4    |[black, die, baby, uk, business, syndrome, based, west, moral, race]                    |\n",
      "|5    |[planned, parenthood, women, laws, children, pregnant, clinics, governor, get, babies]  |\n",
      "|6    |[woman, democrats, kill, pay, travel, virginia, bill, kids, funding, story]             |\n",
      "|7    |[law, court, ban, texas, supreme, bill, state, new, states, gov]                        |\n",
      "|8    |[life, us, dems, gets, term, late, american, fight, obamacare, amendment]               |\n",
      "|9    |[prolife, proabortion, right, says, activists, group, antiabortion, life, clinic, women]|\n",
      "+-----+----------------------------------------------------------------------------------------+"
     ]
    }
   ],
   "source": [
    "def printed_topics(lda_model, num_words=10):\n",
    "    \n",
    "    words = cv_model.vocabulary\n",
    "    topics_matrix = lda_model.describeTopics(maxTermsPerTopic=num_words)\n",
    "    topic_idx = topics_matrix.select(\"termIndices\").rdd.flatMap(lambda x: x).collect()\n",
    "\n",
    "    topic_words = [[words[idx] for idx in indices] for indices in topic_idx]\n",
    "    topic_df = spark.createDataFrame(enumerate(topic_words), [\"topic\", \"words\"])\n",
    "    topic_df.show(truncate=False)\n",
    "\n",
    "printed_topics(model, num_words=10)"
   ]
  },
  {
   "cell_type": "code",
   "execution_count": 42,
   "metadata": {},
   "outputs": [
    {
     "data": {
      "application/vnd.jupyter.widget-view+json": {
       "model_id": "",
       "version_major": 2,
       "version_minor": 0
      },
      "text/plain": [
       "FloatProgress(value=0.0, bar_style='info', description='Progress:', layout=Layout(height='25px', width='50%'),…"
      ]
     },
     "metadata": {},
     "output_type": "display_data"
    },
    {
     "name": "stdout",
     "output_type": "stream",
     "text": [
      "root\n",
      " |-- tokens: array (nullable = true)\n",
      " |    |-- element: string (containsNull = true)\n",
      " |-- features: vector (nullable = true)\n",
      " |-- doc_id: long (nullable = false)"
     ]
    }
   ],
   "source": [
    "# adding on id\n",
    "vectorized_tokens_with_id = vectorized_tokens.withColumn(\"doc_id\", monotonically_increasing_id())\n",
    "vectorized_tokens_with_id.printSchema()"
   ]
  },
  {
   "cell_type": "code",
   "execution_count": 43,
   "metadata": {},
   "outputs": [
    {
     "data": {
      "application/vnd.jupyter.widget-view+json": {
       "model_id": "",
       "version_major": 2,
       "version_minor": 0
      },
      "text/plain": [
       "FloatProgress(value=0.0, bar_style='info', description='Progress:', layout=Layout(height='25px', width='50%'),…"
      ]
     },
     "metadata": {},
     "output_type": "display_data"
    }
   ],
   "source": [
    "transformed_data = model.transform(vectorized_tokens_with_id)\n",
    "topic_dist = transformed_data.select(\"doc_id\", \"topicDistribution\")"
   ]
  },
  {
   "cell_type": "code",
   "execution_count": 53,
   "metadata": {},
   "outputs": [
    {
     "data": {
      "application/vnd.jupyter.widget-view+json": {
       "model_id": "",
       "version_major": 2,
       "version_minor": 0
      },
      "text/plain": [
       "FloatProgress(value=0.0, bar_style='info', description='Progress:', layout=Layout(height='25px', width='50%'),…"
      ]
     },
     "metadata": {},
     "output_type": "display_data"
    }
   ],
   "source": [
    "topic_dist_array = topic_dist.withColumn(\"topicDistribution_ar\", vector_to_array(col(\"topicDistribution\")))\n",
    "\n",
    "mean_prob_columns = [round((F.sum(col(f'topicDistribution_ar')[i]) / 10371), 3).alias(f'Topic {i}') for i in range(10)]\n",
    "\n",
    "topic_proportions = topic_dist_array \\\n",
    "    .agg(*mean_prob_columns)\n",
    "\n",
    "topic_proportions = topic_proportions.toPandas()\n",
    "\n",
    "probs = topic_proportions.values[0]\n",
    "labels = topic_proportions.columns"
   ]
  },
  {
   "cell_type": "code",
   "execution_count": 74,
   "metadata": {},
   "outputs": [
    {
     "data": {
      "application/vnd.jupyter.widget-view+json": {
       "model_id": "",
       "version_major": 2,
       "version_minor": 0
      },
      "text/plain": [
       "FloatProgress(value=0.0, bar_style='info', description='Progress:', layout=Layout(height='25px', width='50%'),…"
      ]
     },
     "metadata": {},
     "output_type": "display_data"
    },
    {
     "data": {
      "image/png": "[encoded data removed]",
      "text/plain": [
       "<IPython.core.display.Image object>"
      ]
     },
     "metadata": {},
     "output_type": "display_data"
    }
   ],
   "source": [
    "colors = sns.color_palette(\"Spectral\", n_colors=len(labels))\n",
    "\n",
    "plt.figure(figsize=(6, 6))\n",
    "wedges, _, autotexts = plt.pie(probs, labels=labels, autopct='%1.1f%%', pctdistance=.7,\n",
    "                                  startangle=140, colors=colors, textprops={'color': 'black', 'fontsize': 10, 'verticalalignment': 'top'})\n",
    "\n",
    "plt.legend(labels, loc=\"upper right\", bbox_to_anchor=(1, 0, 0.5, 1))\n",
    "plt.title('Distribution of Topics (Overall)', fontsize=17)\n",
    "plt.axis('equal')\n",
    "%matplot plt"
   ]
  },
  {
   "cell_type": "markdown",
   "metadata": {},
   "source": [
    "## Bigrams"
   ]
  },
  {
   "cell_type": "code",
   "execution_count": 75,
   "metadata": {},
   "outputs": [
    {
     "data": {
      "application/vnd.jupyter.widget-view+json": {
       "model_id": "",
       "version_major": 2,
       "version_minor": 0
      },
      "text/plain": [
       "FloatProgress(value=0.0, bar_style='info', description='Progress:', layout=Layout(height='25px', width='50%'),…"
      ]
     },
     "metadata": {},
     "output_type": "display_data"
    }
   ],
   "source": [
    "# don't need to create an entirely new pipeline, bc I can just use the cols from above\n",
    "ngram = NGram(n=2, inputCol=\"tokens\", outputCol=\"bigrams\")\n",
    "pipeline = Pipeline(stages=[ngram])"
   ]
  },
  {
   "cell_type": "code",
   "execution_count": 76,
   "metadata": {},
   "outputs": [
    {
     "data": {
      "application/vnd.jupyter.widget-view+json": {
       "model_id": "",
       "version_major": 2,
       "version_minor": 0
      },
      "text/plain": [
       "FloatProgress(value=0.0, bar_style='info', description='Progress:', layout=Layout(height='25px', width='50%'),…"
      ]
     },
     "metadata": {},
     "output_type": "display_data"
    }
   ],
   "source": [
    "pipeline_model = pipeline.fit(vectorized_tokens_with_id)\n",
    "\n",
    "result = pipeline_model.transform(vectorized_tokens_with_id)\n",
    "\n",
    "result_exploded = result.select(explode(\"bigrams\").alias(\"bigram\"))"
   ]
  },
  {
   "cell_type": "code",
   "execution_count": 77,
   "metadata": {},
   "outputs": [
    {
     "data": {
      "application/vnd.jupyter.widget-view+json": {
       "model_id": "",
       "version_major": 2,
       "version_minor": 0
      },
      "text/plain": [
       "FloatProgress(value=0.0, bar_style='info', description='Progress:', layout=Layout(height='25px', width='50%'),…"
      ]
     },
     "metadata": {},
     "output_type": "display_data"
    },
    {
     "name": "stdout",
     "output_type": "stream",
     "text": [
      "+-------------------+-----+\n",
      "|             bigram|count|\n",
      "+-------------------+-----+\n",
      "|   christie advised|    1|\n",
      "|  gathered national|    1|\n",
      "|        fetus organ|    1|\n",
      "|           texas lt|    1|\n",
      "|    mcauliffe ready|    1|\n",
      "|   staffer insisted|    1|\n",
      "|      speech limits|    1|\n",
      "|          dumb fuck|    1|\n",
      "|           x videos|    1|\n",
      "| legislature moving|    1|\n",
      "| california decides|    1|\n",
      "|    shocking dallas|    1|\n",
      "|        gives fiery|    1|\n",
      "|      group promote|    5|\n",
      "|         babys neck|    1|\n",
      "| clears legislature|    1|\n",
      "|        cyrus posts|    1|\n",
      "|moderates laughably|    1|\n",
      "|    francis orourke|    1|\n",
      "|     reason morally|    1|\n",
      "+-------------------+-----+\n",
      "only showing top 20 rows"
     ]
    }
   ],
   "source": [
    "exploded_counts = result_exploded.groupBy('bigram').count()\n",
    "\n",
    "exploded_counts.show()"
   ]
  },
  {
   "cell_type": "code",
   "execution_count": 78,
   "metadata": {},
   "outputs": [
    {
     "data": {
      "application/vnd.jupyter.widget-view+json": {
       "model_id": "",
       "version_major": 2,
       "version_minor": 0
      },
      "text/plain": [
       "FloatProgress(value=0.0, bar_style='info', description='Progress:', layout=Layout(height='25px', width='50%'),…"
      ]
     },
     "metadata": {},
     "output_type": "display_data"
    },
    {
     "name": "stdout",
     "output_type": "stream",
     "text": [
      "Total Rows: 55824"
     ]
    }
   ],
   "source": [
    "print('Total Rows: %d' % exploded_counts.count())"
   ]
  },
  {
   "cell_type": "code",
   "execution_count": 80,
   "metadata": {},
   "outputs": [
    {
     "data": {
      "application/vnd.jupyter.widget-view+json": {
       "model_id": "",
       "version_major": 2,
       "version_minor": 0
      },
      "text/plain": [
       "FloatProgress(value=0.0, bar_style='info', description='Progress:', layout=Layout(height='25px', width='50%'),…"
      ]
     },
     "metadata": {},
     "output_type": "display_data"
    },
    {
     "name": "stdout",
     "output_type": "stream",
     "text": [
      "mean: 1.3629800802522212\n",
      "median: 1.0"
     ]
    }
   ],
   "source": [
    "# 55,824 unique ngrams within the titles..\n",
    "from pyspark.sql.functions import mean\n",
    "\n",
    "# looking at mean and med before I decide threshold\n",
    "\n",
    "mean = exploded_counts.select(mean(\"count\")).first()[0]\n",
    "med = exploded_counts.stat.approxQuantile('count', [0.5], 0.25)[0]\n",
    "\n",
    "print('mean:', mean)\n",
    "print('median:', med)"
   ]
  },
  {
   "cell_type": "markdown",
   "metadata": {},
   "source": [
    "Because there are so many ngrams, I knew the mean and median would be low. I think that will make the ngrams that do appear multiple times even more noteworthy, though. Because there are so many possibilities, I'm going to set the threshold at 15."
   ]
  },
  {
   "cell_type": "code",
   "execution_count": 81,
   "metadata": {},
   "outputs": [
    {
     "data": {
      "application/vnd.jupyter.widget-view+json": {
       "model_id": "",
       "version_major": 2,
       "version_minor": 0
      },
      "text/plain": [
       "FloatProgress(value=0.0, bar_style='info', description='Progress:', layout=Layout(height='25px', width='50%'),…"
      ]
     },
     "metadata": {},
     "output_type": "display_data"
    }
   ],
   "source": [
    "filtered = exploded_counts.filter(exploded_counts['count'] > 15)"
   ]
  },
  {
   "cell_type": "markdown",
   "metadata": {},
   "source": []
  },
  {
   "cell_type": "code",
   "execution_count": 82,
   "metadata": {},
   "outputs": [
    {
     "data": {
      "application/vnd.jupyter.widget-view+json": {
       "model_id": "",
       "version_major": 2,
       "version_minor": 0
      },
      "text/plain": [
       "FloatProgress(value=0.0, bar_style='info', description='Progress:', layout=Layout(height='25px', width='50%'),…"
      ]
     },
     "metadata": {},
     "output_type": "display_data"
    },
    {
     "name": "stdout",
     "output_type": "stream",
     "text": [
      "Total Bigrams: 149\n",
      "\n",
      "Top Bigrams Overall\n",
      "+------------------+-----+\n",
      "|            bigram|count|\n",
      "+------------------+-----+\n",
      "|     supreme court|  413|\n",
      "|planned parenthood|  385|\n",
      "|          roe wade|  165|\n",
      "|         texas law|  121|\n",
      "|    killing babies|   91|\n",
      "|          new york|   83|\n",
      "|         joe biden|   83|\n",
      "|          week ban|   77|\n",
      "|     kamala harris|   71|\n",
      "|     appeals court|   67|\n",
      "|       passes bill|   60|\n",
      "|        signs bill|   55|\n",
      "| pregnancy centers|   52|\n",
      "|       kill babies|   47|\n",
      "|      bill banning|   47|\n",
      "|        born alive|   44|\n",
      "|         texas ban|   44|\n",
      "|    heartbeat bill|   43|\n",
      "|    governor signs|   43|\n",
      "|    south carolina|   42|\n",
      "+------------------+-----+\n",
      "only showing top 20 rows"
     ]
    }
   ],
   "source": [
    "print('Total Bigrams: %d' % filtered.count())\n",
    "print()\n",
    "print('Top Bigrams Overall')\n",
    "filtered.orderBy('count', ascending=False).show(20)"
   ]
  },
  {
   "cell_type": "code",
   "execution_count": 83,
   "metadata": {},
   "outputs": [
    {
     "data": {
      "application/vnd.jupyter.widget-view+json": {
       "model_id": "",
       "version_major": 2,
       "version_minor": 0
      },
      "text/plain": [
       "FloatProgress(value=0.0, bar_style='info', description='Progress:', layout=Layout(height='25px', width='50%'),…"
      ]
     },
     "metadata": {},
     "output_type": "display_data"
    },
    {
     "name": "stdout",
     "output_type": "stream",
     "text": [
      "root\n",
      " |-- tokens: array (nullable = true)\n",
      " |    |-- element: string (containsNull = true)\n",
      " |-- features: vector (nullable = true)\n",
      " |-- row_id: long (nullable = false)"
     ]
    }
   ],
   "source": [
    "# changing to row ID, so I can join df on common col\n",
    "vectorized_tokens_with_id = vectorized_tokens_with_id.withColumnRenamed(\"doc_id\", \"row_id\")\n",
    "vectorized_tokens_with_id.printSchema()"
   ]
  },
  {
   "cell_type": "markdown",
   "metadata": {},
   "source": [
    "## Bigrams by Year"
   ]
  },
  {
   "cell_type": "code",
   "execution_count": 84,
   "metadata": {},
   "outputs": [
    {
     "data": {
      "application/vnd.jupyter.widget-view+json": {
       "model_id": "",
       "version_major": 2,
       "version_minor": 0
      },
      "text/plain": [
       "FloatProgress(value=0.0, bar_style='info', description='Progress:', layout=Layout(height='25px', width='50%'),…"
      ]
     },
     "metadata": {},
     "output_type": "display_data"
    },
    {
     "name": "stdout",
     "output_type": "stream",
     "text": [
      "root\n",
      " |-- row_id: long (nullable = false)\n",
      " |-- tokens: array (nullable = true)\n",
      " |    |-- element: string (containsNull = true)\n",
      " |-- features: vector (nullable = true)\n",
      " |-- title: string (nullable = true)\n",
      " |-- date_posted: timestamp (nullable = true)\n",
      " |-- author: string (nullable = true)\n",
      " |-- id: string (nullable = true)\n",
      " |-- flare: string (nullable = true)\n",
      " |-- num_comments: integer (nullable = true)\n",
      " |-- url: string (nullable = true)\n",
      " |-- year: integer (nullable = true)"
     ]
    }
   ],
   "source": [
    "# joining df to get bigrams by year\n",
    "joined_on_year = vectorized_tokens_with_id.join(data, 'row_id', 'inner')\n",
    "joined_on_year = joined_on_year.withColumn('year', F.year(joined_on_year['date_posted']))\n",
    "\n",
    "joined_on_year.printSchema()"
   ]
  },
  {
   "cell_type": "code",
   "execution_count": 85,
   "metadata": {},
   "outputs": [
    {
     "data": {
      "application/vnd.jupyter.widget-view+json": {
       "model_id": "",
       "version_major": 2,
       "version_minor": 0
      },
      "text/plain": [
       "FloatProgress(value=0.0, bar_style='info', description='Progress:', layout=Layout(height='25px', width='50%'),…"
      ]
     },
     "metadata": {},
     "output_type": "display_data"
    }
   ],
   "source": [
    "# creating func for each year\n",
    "\n",
    "def ngram_by_year(year):\n",
    "    \n",
    "    # filtering by year\n",
    "    filtered_df = joined_on_year.filter(F.year(joined_on_year['date_posted']) == year)\n",
    "    \n",
    "     # creating Ngram pipeline\n",
    "    ngram = NGram(n=2, inputCol=\"tokens\", outputCol=\"bigrams\")\n",
    "    pipeline = Pipeline(stages=[ngram])\n",
    "    pipeline_model = pipeline.fit(filtered_df)\n",
    "\n",
    "    result = pipeline_model.transform(filtered_df)\n",
    "    result_exploded = result.select(explode(\"bigrams\").alias(\"bigram\"))\n",
    "    exploded_counts = result_exploded.groupBy('bigram').count()\n",
    "    \n",
    "    filtered = exploded_counts.filter(exploded_counts['count'] > 5)\n",
    "    \n",
    "    top_grams = filtered.orderBy('count', ascending=False)\n",
    "    print(f'Top Bigrams in {year}')\n",
    "    top_grams.show(10)\n",
    "    print ('--'*50)"
   ]
  },
  {
   "cell_type": "code",
   "execution_count": 86,
   "metadata": {},
   "outputs": [
    {
     "data": {
      "application/vnd.jupyter.widget-view+json": {
       "model_id": "",
       "version_major": 2,
       "version_minor": 0
      },
      "text/plain": [
       "FloatProgress(value=0.0, bar_style='info', description='Progress:', layout=Layout(height='25px', width='50%'),…"
      ]
     },
     "metadata": {},
     "output_type": "display_data"
    },
    {
     "name": "stdout",
     "output_type": "stream",
     "text": [
      "Top Bigrams in 2012\n",
      "+------------------+-----+\n",
      "|            bigram|count|\n",
      "+------------------+-----+\n",
      "|planned parenthood|   10|\n",
      "+------------------+-----+\n",
      "\n",
      "----------------------------------------------------------------------------------------------------\n",
      "Top Bigrams in 2013\n",
      "+------------------+-----+\n",
      "|            bigram|count|\n",
      "+------------------+-----+\n",
      "|planned parenthood|   19|\n",
      "|         late term|   13|\n",
      "|    kermit gosnell|   12|\n",
      "|       wendy davis|    8|\n",
      "|      north dakota|    7|\n",
      "|     house horrors|    6|\n",
      "|     xpost prolife|    6|\n",
      "|     gosnell trial|    6|\n",
      "+------------------+-----+\n",
      "\n",
      "----------------------------------------------------------------------------------------------------\n",
      "Top Bigrams in 2014\n",
      "+------------------+-----+\n",
      "|            bigram|count|\n",
      "+------------------+-----+\n",
      "|planned parenthood|   14|\n",
      "|     supreme court|    9|\n",
      "|      gay marriage|    6|\n",
      "+------------------+-----+\n",
      "\n",
      "----------------------------------------------------------------------------------------------------\n",
      "Top Bigrams in 2015\n",
      "+------------------+-----+\n",
      "|            bigram|count|\n",
      "+------------------+-----+\n",
      "|planned parenthood|   34|\n",
      "|         rand paul|    9|\n",
      "|   hillary clinton|    8|\n",
      "|          week ban|    7|\n",
      "+------------------+-----+\n",
      "\n",
      "----------------------------------------------------------------------------------------------------\n",
      "Top Bigrams in 2016\n",
      "+------------------+-----+\n",
      "|            bigram|count|\n",
      "+------------------+-----+\n",
      "|      donald trump|   13|\n",
      "|   hillary clinton|   11|\n",
      "|planned parenthood|   11|\n",
      "|          ted cruz|    8|\n",
      "|     supreme court|    6|\n",
      "+------------------+-----+\n",
      "\n",
      "----------------------------------------------------------------------------------------------------\n",
      "Top Bigrams in 2017\n",
      "+------------------+-----+\n",
      "|            bigram|count|\n",
      "+------------------+-----+\n",
      "|planned parenthood|   49|\n",
      "|       ben shapiro|    8|\n",
      "|   president trump|    6|\n",
      "+------------------+-----+\n",
      "\n",
      "----------------------------------------------------------------------------------------------------\n",
      "Top Bigrams in 2018\n",
      "+--------------------+-----+\n",
      "|              bigram|count|\n",
      "+--------------------+-----+\n",
      "|  planned parenthood|   33|\n",
      "|       supreme court|   21|\n",
      "|   pregnancy centers|   11|\n",
      "|trump administration|    9|\n",
      "|     chelsea clinton|    8|\n",
      "|            week ban|    8|\n",
      "|      heartbeat bill|    6|\n",
      "|       pill reversal|    6|\n",
      "|     disney princess|    6|\n",
      "|       prolife woman|    6|\n",
      "+--------------------+-----+\n",
      "\n",
      "----------------------------------------------------------------------------------------------------\n",
      "Top Bigrams in 2019\n",
      "+------------------+-----+\n",
      "|            bigram|count|\n",
      "+------------------+-----+\n",
      "|planned parenthood|   56|\n",
      "|          new york|   26|\n",
      "|     supreme court|   26|\n",
      "|    heartbeat bill|   15|\n",
      "|        born alive|   15|\n",
      "|         late term|   14|\n",
      "|     alyssa milano|   14|\n",
      "|       passes bill|   13|\n",
      "|         joe biden|   13|\n",
      "|          roe wade|   13|\n",
      "+------------------+-----+\n",
      "only showing top 10 rows\n",
      "\n",
      "----------------------------------------------------------------------------------------------------\n",
      "Top Bigrams in 2020\n",
      "+--------------------+-----+\n",
      "|              bigram|count|\n",
      "+--------------------+-----+\n",
      "|  planned parenthood|   37|\n",
      "|       supreme court|   35|\n",
      "|          kanye west|   15|\n",
      "|       appeals court|   13|\n",
      "|           joe biden|   12|\n",
      "|            roe wade|   11|\n",
      "|      killing babies|    9|\n",
      "|        tested using|    9|\n",
      "|         black lives|    9|\n",
      "|trump administration|    9|\n",
      "+--------------------+-----+\n",
      "only showing top 10 rows\n",
      "\n",
      "----------------------------------------------------------------------------------------------------\n",
      "Top Bigrams in 2021\n",
      "+--------------------+-----+\n",
      "|              bigram|count|\n",
      "+--------------------+-----+\n",
      "|       supreme court|  108|\n",
      "|           texas law|   97|\n",
      "|            roe wade|   44|\n",
      "|  planned parenthood|   35|\n",
      "|           texas ban|   27|\n",
      "|           joe biden|   18|\n",
      "|             new law|   16|\n",
      "|biden administration|   15|\n",
      "|       appeals court|   13|\n",
      "|        bill banning|   13|\n",
      "+--------------------+-----+\n",
      "only showing top 10 rows\n",
      "\n",
      "----------------------------------------------------------------------------------------------------\n",
      "Top Bigrams in 2022\n",
      "+--------------------+-----+\n",
      "|              bigram|count|\n",
      "+--------------------+-----+\n",
      "|       supreme court|  127|\n",
      "|            roe wade|   75|\n",
      "|  planned parenthood|   34|\n",
      "|         rape victim|   31|\n",
      "|proabortion prote...|   25|\n",
      "|       kamala harris|   23|\n",
      "|proabortion activ...|   21|\n",
      "|        yearold rape|   20|\n",
      "|     herschel walker|   20|\n",
      "|          daily wire|   19|\n",
      "+--------------------+-----+\n",
      "only showing top 10 rows\n",
      "\n",
      "----------------------------------------------------------------------------------------------------\n",
      "Top Bigrams in 2023\n",
      "+------------------+-----+\n",
      "|            bigram|count|\n",
      "+------------------+-----+\n",
      "|     supreme court|   70|\n",
      "|    killing babies|   54|\n",
      "|planned parenthood|   52|\n",
      "|       kill babies|   35|\n",
      "| protecting babies|   29|\n",
      "|     kamala harris|   28|\n",
      "|     saving babies|   26|\n",
      "|       save babies|   25|\n",
      "|         joe biden|   24|\n",
      "|    protect babies|   24|\n",
      "+------------------+-----+\n",
      "only showing top 10 rows\n",
      "\n",
      "----------------------------------------------------------------------------------------------------"
     ]
    }
   ],
   "source": [
    "ngram_by_year(2012)\n",
    "ngram_by_year(2013)\n",
    "ngram_by_year(2014)\n",
    "ngram_by_year(2015)\n",
    "ngram_by_year(2016)\n",
    "ngram_by_year(2017)\n",
    "ngram_by_year(2018)\n",
    "ngram_by_year(2019)\n",
    "ngram_by_year(2020)\n",
    "ngram_by_year(2021)\n",
    "ngram_by_year(2022)\n",
    "ngram_by_year(2023)"
   ]
  },
  {
   "cell_type": "markdown",
   "metadata": {},
   "source": [
    "## Getting Post IDs\n",
    "\n",
    "I need the post IDs so that I know which comments to extract from the 2GB compressed ZST file"
   ]
  },
  {
   "cell_type": "code",
   "execution_count": 93,
   "metadata": {},
   "outputs": [
    {
     "data": {
      "application/vnd.jupyter.widget-view+json": {
       "model_id": "",
       "version_major": 2,
       "version_minor": 0
      },
      "text/plain": [
       "FloatProgress(value=0.0, bar_style='info', description='Progress:', layout=Layout(height='25px', width='50%'),…"
      ]
     },
     "metadata": {},
     "output_type": "display_data"
    },
    {
     "name": "stdout",
     "output_type": "stream",
     "text": [
      "Total Rows: 6573"
     ]
    }
   ],
   "source": [
    "posts_w_comments = data.filter(data.num_comments > 0)\n",
    "print('Total Rows: %d' % post_id.count())"
   ]
  },
  {
   "cell_type": "code",
   "execution_count": 94,
   "metadata": {},
   "outputs": [
    {
     "data": {
      "application/vnd.jupyter.widget-view+json": {
       "model_id": "",
       "version_major": 2,
       "version_minor": 0
      },
      "text/plain": [
       "FloatProgress(value=0.0, bar_style='info', description='Progress:', layout=Layout(height='25px', width='50%'),…"
      ]
     },
     "metadata": {},
     "output_type": "display_data"
    },
    {
     "name": "stdout",
     "output_type": "stream",
     "text": [
      "6573"
     ]
    }
   ],
   "source": [
    "post_id_lst = posts_w_comments.select('id').rdd.flatMap(lambda x: x).collect()\n",
    "\n",
    "len(post_id_lst)"
   ]
  },
  {
   "cell_type": "code",
   "execution_count": 95,
   "metadata": {},
   "outputs": [
    {
     "data": {
      "application/vnd.jupyter.widget-view+json": {
       "model_id": "",
       "version_major": 2,
       "version_minor": 0
      },
      "text/plain": [
       "FloatProgress(value=0.0, bar_style='info', description='Progress:', layout=Layout(height='25px', width='50%'),…"
      ]
     },
     "metadata": {},
     "output_type": "display_data"
    },
    {
     "name": "stdout",
     "output_type": "stream",
     "text": [
      "+--------------------+-------------------+-------------------+-----+-----+------------+--------------------+------+\n",
      "|               title|        date_posted|             author|   id|flare|num_comments|                 url|row_id|\n",
      "+--------------------+-------------------+-------------------+-----+-----+------------+--------------------+------+\n",
      "|Men Aren't Allowe...|2008-09-22 19:01:29|           cldnails|72v18| null|           5|/r/Conservative/c...|     0|\n",
      "|Should abortion b...|2009-12-23 10:33:52|          [deleted]|ahsop| null|          14|/r/Conservative/c...|    10|\n",
      "|  The New York Ti...|2010-03-12 13:45:03|          30Seconds|bcj1g| null|           2|/r/Conservative/c...|    11|\n",
      "|\"NPR memo to all ...|2010-03-29 17:46:07|          [deleted]|bjsrb| null|          43|/r/Conservative/c...|    12|\n",
      "|The New Normal on...|2010-05-14 17:07:09|            dan1123|c45dz| null|           3|/r/Conservative/c...|    13|\n",
      "|Two sides critici...|2010-06-22 23:27:18|        DeskofBrian|chxh4| null|           1|/r/Conservative/c...|    15|\n",
      "|The Obama adminis...|2010-07-10 04:58:16|          [deleted]|cnyoj| null|           4|/r/Conservative/c...|    16|\n",
      "|\"Political Advice...|2010-08-30 15:24:32|          caferrell|d799v| null|           9|/r/Conservative/c...|    17|\n",
      "|TIME Names Woman'...|2010-12-24 19:50:59|          [deleted]|er128| null|          14|/r/Conservative/c...|    23|\n",
      "|Vanderbilt Univer...|2011-01-11 21:13:24|          [deleted]|f0gf5| null|           1|/r/Conservative/c...|    24|\n",
      "|Doctor faces 8 co...|2011-01-20 01:00:28|          [deleted]|f5hcf| null|           3|/r/Conservative/c...|    27|\n",
      "|Feminism's legacy...|2011-03-11 13:59:34|           mayonesa|g1xdt| null|           3|/r/Conservative/c...|    29|\n",
      "|\"Being anti-choic...|2011-03-12 17:05:08|           elshizzo|g2neq| null|          21|/r/Conservative/c...|    30|\n",
      "|If you are pro-li...|2011-03-30 21:30:32|               msum|gf0kc| null|          21|/r/Conservative/c...|    31|\n",
      "|Parental consent ...|2011-04-20 13:30:43|        zap-johnson|gufsw| null|           1|/r/Conservative/c...|    33|\n",
      "|State-funded Web ...|2011-04-21 03:25:23|          [deleted]|gv102| null|           1|/r/Conservative/c...|    34|\n",
      "|Study: Family Pla...|2011-04-23 16:07:57|        Harpsichord|gvs0r| null|           1|/r/Conservative/c...|    35|\n",
      "|With Carhart’s Ma...|2011-08-02 15:18:39|americanindependent|j6r1v| null|           1|/r/Conservative/c...|    38|\n",
      "|Lifestyle Abortio...|2011-09-25 02:24:01|          [deleted]|kqj7z| null|          49|/r/Conservative/c...|    40|\n",
      "|'180' is a powerf...|2011-10-10 20:37:47|           jayforde|l7gor| null|          16|/r/Conservative/c...|    42|\n",
      "+--------------------+-------------------+-------------------+-----+-----+------------+--------------------+------+\n",
      "only showing top 20 rows"
     ]
    }
   ],
   "source": [
    "posts_w_comments.show()"
   ]
  },
  {
   "cell_type": "code",
   "execution_count": 98,
   "metadata": {},
   "outputs": [
    {
     "data": {
      "application/vnd.jupyter.widget-view+json": {
       "model_id": "",
       "version_major": 2,
       "version_minor": 0
      },
      "text/plain": [
       "FloatProgress(value=0.0, bar_style='info', description='Progress:', layout=Layout(height='25px', width='50%'),…"
      ]
     },
     "metadata": {},
     "output_type": "display_data"
    }
   ],
   "source": [
    "bucket = 's3://131313113finalproject/posts_w_comments'\n",
    "\n",
    "posts_w_comments.write.parquet(bucket, mode=\"overwrite\")"
   ]
  }
 ],
 "metadata": {
  "kernelspec": {
   "display_name": "PySpark",
   "language": "",
   "name": "pysparkkernel"
  },
  "language_info": {
   "codemirror_mode": {
    "name": "python",
    "version": 3
   },
   "mimetype": "text/x-python",
   "name": "pyspark",
   "pygments_lexer": "python3"
  }
 },
 "nbformat": 4,
 "nbformat_minor": 4
}
