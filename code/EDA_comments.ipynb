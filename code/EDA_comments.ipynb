{
 "cells": [
  {
   "cell_type": "markdown",
   "metadata": {},
   "source": [
    "### Cleaning and EDA Comments"
   ]
  },
  {
   "cell_type": "code",
   "execution_count": 1,
   "metadata": {},
   "outputs": [
    {
     "name": "stdout",
     "output_type": "stream",
     "text": [
      "Starting Spark application\n"
     ]
    },
    {
     "data": {
      "text/html": [
       "<table>\n",
       "<tr><th>ID</th><th>YARN Application ID</th><th>Kind</th><th>State</th><th>Spark UI</th><th>Driver log</th><th>Current session?</th></tr><tr><td>1</td><td>application_1716512352629_0011</td><td>pyspark</td><td>idle</td><td><a target=\"_blank\" href=\"http://ip-172-31-36-184.ec2.internal:20888/proxy/application_1716512352629_0011/\">Link</a></td><td><a target=\"_blank\" href=\"http://ip-172-31-33-163.ec2.internal:8042/node/containerlogs/container_1716512352629_0011_01_000001/livy\">Link</a></td><td>✔</td></tr></table>"
      ],
      "text/plain": [
       "<IPython.core.display.HTML object>"
      ]
     },
     "metadata": {},
     "output_type": "display_data"
    },
    {
     "data": {
      "application/vnd.jupyter.widget-view+json": {
       "model_id": "",
       "version_major": 2,
       "version_minor": 0
      },
      "text/plain": [
       "FloatProgress(value=0.0, bar_style='info', description='Progress:', layout=Layout(height='25px', width='50%'),…"
      ]
     },
     "metadata": {},
     "output_type": "display_data"
    },
    {
     "name": "stdout",
     "output_type": "stream",
     "text": [
      "SparkSession available as 'spark'.\n"
     ]
    },
    {
     "data": {
      "application/vnd.jupyter.widget-view+json": {
       "model_id": "",
       "version_major": 2,
       "version_minor": 0
      },
      "text/plain": [
       "FloatProgress(value=0.0, bar_style='info', description='Progress:', layout=Layout(height='25px', width='50%'),…"
      ]
     },
     "metadata": {},
     "output_type": "display_data"
    }
   ],
   "source": [
    "from pyspark.sql import SparkSession\n",
    "\n",
    "spark = SparkSession.builder \\\n",
    "    .appName(\"comments\") \\\n",
    "    .config(\"spark.executor.memory\", \"12g\") \\\n",
    "    .config(\"spark.executor.cores\", \"3\") \\\n",
    "    .config(\"spark.executor.instances\", \"2\") \\\n",
    "    .config(\"spark.driver.memory\", \"8g\") \\\n",
    "    .getOrCreate()"
   ]
  },
  {
   "cell_type": "code",
   "execution_count": 2,
   "metadata": {},
   "outputs": [
    {
     "data": {
      "application/vnd.jupyter.widget-view+json": {
       "model_id": "",
       "version_major": 2,
       "version_minor": 0
      },
      "text/plain": [
       "FloatProgress(value=0.0, bar_style='info', description='Progress:', layout=Layout(height='25px', width='50%'),…"
      ]
     },
     "metadata": {},
     "output_type": "display_data"
    }
   ],
   "source": [
    "import sparknlp\n",
    "from sparknlp.base import *\n",
    "from sparknlp.annotator import *\n",
    "import matplotlib.pyplot as plt\n",
    "import pandas as pd\n",
    "\n",
    "from pyspark.sql.functions import (\n",
    "    col, udf, to_timestamp, desc, year, count, round, \n",
    "    monotonically_increasing_id, concat, lit, explode)\n",
    "from pyspark.sql.functions import (\n",
    "    coalesce, col, explode, from_json, length, from_unixtime,\n",
    "    regexp_replace, split, size)\n",
    "\n",
    "import pyspark.sql.functions as F\n",
    "\n",
    "from pyspark.sql.types import StructType, StructField, StringType, IntegerType\n",
    "import json"
   ]
  },
  {
   "cell_type": "code",
   "execution_count": 3,
   "metadata": {},
   "outputs": [
    {
     "data": {
      "application/vnd.jupyter.widget-view+json": {
       "model_id": "",
       "version_major": 2,
       "version_minor": 0
      },
      "text/plain": [
       "FloatProgress(value=0.0, bar_style='info', description='Progress:', layout=Layout(height='25px', width='50%'),…"
      ]
     },
     "metadata": {},
     "output_type": "display_data"
    }
   ],
   "source": [
    "# reading in first, partitioning for parallelization\n",
    "data = spark.read.parquet(\"s3://131313113finalproject/ffcf_ft\").repartition(4).persist()"
   ]
  },
  {
   "cell_type": "code",
   "execution_count": 5,
   "metadata": {},
   "outputs": [
    {
     "data": {
      "application/vnd.jupyter.widget-view+json": {
       "model_id": "",
       "version_major": 2,
       "version_minor": 0
      },
      "text/plain": [
       "FloatProgress(value=0.0, bar_style='info', description='Progress:', layout=Layout(height='25px', width='50%'),…"
      ]
     },
     "metadata": {},
     "output_type": "display_data"
    },
    {
     "name": "stdout",
     "output_type": "stream",
     "text": [
      "root\n",
      " |-- body: string (nullable = true)\n",
      " |-- author: string (nullable = true)\n",
      " |-- created_utc: string (nullable = true)\n",
      " |-- score: string (nullable = true)\n",
      " |-- id: string (nullable = true)\n",
      " |-- link_id: string (nullable = true)\n",
      " |-- subreddit: string (nullable = true)\n",
      " |-- author_flair_text: string (nullable = true)\n",
      " |-- time: string (nullable = true)\n",
      "\n",
      "Total Rows: 206756\n",
      "Total Columns: 9"
     ]
    }
   ],
   "source": [
    "data.printSchema()\n",
    "print('Total Rows: %d' % data.count())\n",
    "print('Total Columns: %d' % len(data.dtypes))"
   ]
  },
  {
   "cell_type": "markdown",
   "metadata": {},
   "source": [
    "## Basic Cleaning"
   ]
  },
  {
   "cell_type": "code",
   "execution_count": 6,
   "metadata": {},
   "outputs": [
    {
     "data": {
      "application/vnd.jupyter.widget-view+json": {
       "model_id": "",
       "version_major": 2,
       "version_minor": 0
      },
      "text/plain": [
       "FloatProgress(value=0.0, bar_style='info', description='Progress:', layout=Layout(height='25px', width='50%'),…"
      ]
     },
     "metadata": {},
     "output_type": "display_data"
    },
    {
     "name": "stdout",
     "output_type": "stream",
     "text": [
      "+--------------------+------------------+-------------+-----+-------+----------+------------+--------------------+-------------------+\n",
      "|                body|            author|  created_utc|score|     id|   link_id|   subreddit|   author_flair_text|               time|\n",
      "+--------------------+------------------+-------------+-----+-------+----------+------------+--------------------+-------------------+\n",
      "|Been there at 32 ...|        yankee77wi|   1640635686|    1|hq6pwcl| t3_rpsgta|Conservative|        Conservative|2021-12-27 20:08:06|\n",
      "|No.  You're insan...|   CarsomyrPlusSix|   1657393835|   -7|ifi9d18| t3_vv0nx9|Conservative|PaleoConservative...|2022-07-09 19:10:35|\n",
      "|           [removed]|         [deleted]|   1661355939|    1|illvh2o| t3_wwie2k|Conservative|                null|2022-08-24 15:45:39|\n",
      "|           [deleted]|         [deleted]|   1372882179|   -6|cave79h| t3_1hki8n|Conservative|                null|2013-07-03 20:09:39|\n",
      "|I see your argume...|          ventorun|   1661449223|    4|ilren3j| t3_wxijt2|Conservative|                null|2022-08-25 17:40:23|\n",
      "|           [removed]|         [deleted]|   1656791202|    1|iem3nnu| t3_vpquiv|Conservative|                null|2022-07-02 19:46:42|\n",
      "|Republicans did i...|Opening-Citron2733|   1668540010|   85|iwhug33| t3_yw0uwy|Conservative|        Conservative|2022-11-15 19:20:10|\n",
      "|I mean, with will...|   CarsomyrPlusSix|   1656312419|    1|idwgz3n| t3_vlgqa8|Conservative|PaleoConservative...|2022-06-27 06:46:59|\n",
      "|Manchin's a dem, ...|       hundycougar|   1541341838|    5|e916u2p| t3_9u2z11|Conservative|Sowell-Heinlein M...|2018-11-04 14:30:38|\n",
      "|I wouldn't want s...|             GTGD3|   1657892617|    2|ig9hac1| t3_vz6dkc|Conservative|Family First Cons...|2022-07-15 13:43:37|\n",
      "|A lot of people h...|    the_federalist|   1353191977|    1|c72xhez| t3_13c17w|Conservative|Madisonian Republ...|2012-11-17 22:39:37|\n",
      "|           [removed]|         [deleted]|   1674707673|    1|j5x8l4m|t3_10l835i|Conservative|                null|2023-01-26 04:34:33|\n",
      "|Republicans must ...|Forsaken_Cost_1937|1.684893637E9|    3|jldg2hj|t3_13q7u1m|Conservative|        Conservative|               null|\n",
      "|           [removed]|         [deleted]|   1659528406|    1|iirsnb4| t3_weuums|Conservative|                null|2022-08-03 12:06:46|\n",
      "|I think that was ...|    JustBrowsing49|   1656091471|   31|idl0pfu| t3_vjpnug|Conservative|                null|2022-06-24 17:24:31|\n",
      "|           [removed]|         [deleted]|   1656344744|    1|idxwk70| t3_vl4ztm|Conservative|                null|2022-06-27 15:45:44|\n",
      "|Would love to see...|        Kirktheowl|   1657184487|    3|if6oltp| t3_vt0won|Conservative|                null|2022-07-07 09:01:27|\n",
      "|Does this mean pe...|      username1338|   1633755831|    6|hfy3kdf| t3_q4cikf|Conservative|                null|2021-10-09 05:03:51|\n",
      "|           [removed]|         [deleted]|   1680184380|    1|je9v0ih|t3_1265n3r|Conservative|                null|2023-03-30 13:53:00|\n",
      "|           [removed]|         [deleted]|   1659549373|    1|iit762f| t3_weuums|Conservative|                null|2022-08-03 17:56:13|\n",
      "+--------------------+------------------+-------------+-----+-------+----------+------------+--------------------+-------------------+\n",
      "only showing top 20 rows"
     ]
    }
   ],
   "source": [
    "data.show()"
   ]
  },
  {
   "cell_type": "markdown",
   "metadata": {},
   "source": [
    "I obviously have a lot more cleaning to do on this one. \n",
    "I am not worried about any of the other 'null' values, except for the actual comment body. Everything else I will still be able to glean information from. I am going to start with seeing how many removed comments, because I don't want to preform unnecessary operations on cols to be dropped, there are and proceeding from there."
   ]
  },
  {
   "cell_type": "code",
   "execution_count": 6,
   "metadata": {},
   "outputs": [
    {
     "data": {
      "application/vnd.jupyter.widget-view+json": {
       "model_id": "",
       "version_major": 2,
       "version_minor": 0
      },
      "text/plain": [
       "FloatProgress(value=0.0, bar_style='info', description='Progress:', layout=Layout(height='25px', width='50%'),…"
      ]
     },
     "metadata": {},
     "output_type": "display_data"
    },
    {
     "name": "stdout",
     "output_type": "stream",
     "text": [
      "Null Body Values: 0\n",
      "[removed] Body Values: 51888"
     ]
    }
   ],
   "source": [
    "# removed if different than null\n",
    "print('Null Body Values:', data.filter(col('body').isNull()).count())\n",
    "\n",
    "print('[removed] Body Values:', data.where(data['body'] == '[removed]').count())"
   ]
  },
  {
   "cell_type": "code",
   "execution_count": 7,
   "metadata": {},
   "outputs": [
    {
     "data": {
      "application/vnd.jupyter.widget-view+json": {
       "model_id": "",
       "version_major": 2,
       "version_minor": 0
      },
      "text/plain": [
       "FloatProgress(value=0.0, bar_style='info', description='Progress:', layout=Layout(height='25px', width='50%'),…"
      ]
     },
     "metadata": {},
     "output_type": "display_data"
    },
    {
     "name": "stdout",
     "output_type": "stream",
     "text": [
      "+---------+---------+-----------+-----+-------+----------+------------+-----------------+-------------------+\n",
      "|     body|   author|created_utc|score|     id|   link_id|   subreddit|author_flair_text|               time|\n",
      "+---------+---------+-----------+-----+-------+----------+------------+-----------------+-------------------+\n",
      "|[removed]|[deleted]| 1661355939|    1|illvh2o| t3_wwie2k|Conservative|             null|2022-08-24 15:45:39|\n",
      "|[removed]|[deleted]| 1656791202|    1|iem3nnu| t3_vpquiv|Conservative|             null|2022-07-02 19:46:42|\n",
      "|[removed]|[deleted]| 1674707673|    1|j5x8l4m|t3_10l835i|Conservative|             null|2023-01-26 04:34:33|\n",
      "|[removed]|[deleted]| 1659528406|    1|iirsnb4| t3_weuums|Conservative|             null|2022-08-03 12:06:46|\n",
      "|[removed]|[deleted]| 1656344744|    1|idxwk70| t3_vl4ztm|Conservative|             null|2022-06-27 15:45:44|\n",
      "+---------+---------+-----------+-----+-------+----------+------------+-----------------+-------------------+\n",
      "only showing top 5 rows"
     ]
    }
   ],
   "source": [
    "# A ton of removed values. This could either be users removing their comments themseleves, or moderators doing so. Because the number is so large, I do want to look closer\n",
    "removed_comments = data.where(data['body'] == '[removed]')\n",
    "removed_comments.show(5)"
   ]
  },
  {
   "cell_type": "markdown",
   "metadata": {},
   "source": [
    "This might be something interesting to look back on later, to see if there are any commonalities within the deleted comments. For now, it seems like there isn't much happening here. Most of them have a score of 1 (the default assigned score) showing that the comment really had no impact on the discourse of the sub. It appears as though the majority of these were self deleted."
   ]
  },
  {
   "cell_type": "code",
   "execution_count": 8,
   "metadata": {},
   "outputs": [
    {
     "data": {
      "application/vnd.jupyter.widget-view+json": {
       "model_id": "",
       "version_major": 2,
       "version_minor": 0
      },
      "text/plain": [
       "FloatProgress(value=0.0, bar_style='info', description='Progress:', layout=Layout(height='25px', width='50%'),…"
      ]
     },
     "metadata": {},
     "output_type": "display_data"
    },
    {
     "name": "stdout",
     "output_type": "stream",
     "text": [
      "Before removing [removed]/[deleted]: 206756\n",
      "After removing [removed]/deleted: 146173"
     ]
    }
   ],
   "source": [
    "print('Before removing '\"[removed]/[deleted]\"': %d' % data.count())\n",
    "data = data.filter((data['body'] != '[removed]') & (data['body'] != '[deleted]'))\n",
    "print('After removing '\"[removed]/deleted\"': %d' % data.count())"
   ]
  },
  {
   "cell_type": "code",
   "execution_count": 9,
   "metadata": {},
   "outputs": [
    {
     "data": {
      "application/vnd.jupyter.widget-view+json": {
       "model_id": "",
       "version_major": 2,
       "version_minor": 0
      },
      "text/plain": [
       "FloatProgress(value=0.0, bar_style='info', description='Progress:', layout=Layout(height='25px', width='50%'),…"
      ]
     },
     "metadata": {},
     "output_type": "display_data"
    },
    {
     "name": "stdout",
     "output_type": "stream",
     "text": [
      "root\n",
      " |-- body: string (nullable = true)\n",
      " |-- author: string (nullable = true)\n",
      " |-- score: integer (nullable = true)\n",
      " |-- id: string (nullable = true)\n",
      " |-- link_id: string (nullable = true)\n",
      " |-- subreddit: string (nullable = true)\n",
      " |-- author_flair_text: string (nullable = true)\n",
      " |-- time: timestamp (nullable = true)"
     ]
    }
   ],
   "source": [
    "data = data.withColumn('time', to_timestamp(data['time']))\n",
    "# dropping uneccessary\n",
    "data = data.drop('created_utc')\n",
    "\n",
    "# changing score to int\n",
    "data = data.withColumn('score', data['score'].cast('int'))\n",
    "\n",
    "# Show the data\n",
    "data.printSchema()"
   ]
  },
  {
   "cell_type": "code",
   "execution_count": 10,
   "metadata": {
    "vscode": {
     "languageId": "plaintext"
    }
   },
   "outputs": [
    {
     "data": {
      "application/vnd.jupyter.widget-view+json": {
       "model_id": "",
       "version_major": 2,
       "version_minor": 0
      },
      "text/plain": [
       "FloatProgress(value=0.0, bar_style='info', description='Progress:', layout=Layout(height='25px', width='50%'),…"
      ]
     },
     "metadata": {},
     "output_type": "display_data"
    }
   ],
   "source": [
    "# most of cleaning will take place during the pipeline stage for NLP, but I still want to remove the \\n\n",
    "data = data.withColumn('body', regexp_replace('body', '\\n', ''))\n",
    "\n",
    "# and replace any links\n",
    "data = data.withColumn('body', regexp_replace('body', 'http\\S+', 'LINK'))"
   ]
  },
  {
   "cell_type": "code",
   "execution_count": 11,
   "metadata": {},
   "outputs": [
    {
     "data": {
      "application/vnd.jupyter.widget-view+json": {
       "model_id": "",
       "version_major": 2,
       "version_minor": 0
      },
      "text/plain": [
       "FloatProgress(value=0.0, bar_style='info', description='Progress:', layout=Layout(height='25px', width='50%'),…"
      ]
     },
     "metadata": {},
     "output_type": "display_data"
    },
    {
     "name": "stdout",
     "output_type": "stream",
     "text": [
      "+--------------------+--------------------+-----+-------+----------+------------+--------------------+-------------------+\n",
      "|                body|              author|score|     id|   link_id|   subreddit|   author_flair_text|               time|\n",
      "+--------------------+--------------------+-----+-------+----------+------------+--------------------+-------------------+\n",
      "|There is, it's 24...|        Spring_Choco|    4|ke2fgl2|t3_18m7x6p|Conservative|                null|2023-12-19 18:15:59|\n",
      "|I literally can’t...|   Commander-Grammar|   -1|kcnjgs7|t3_18e3isp|Conservative|        Conservative|2023-12-09 17:10:59|\n",
      "|We should stick t...|           wabbott82|  151|kcl5g2n|t3_18e3isp|Conservative|      British Accent|2023-12-09 02:55:59|\n",
      "|The title saying ...|    Angry-Wombat1871|    5|k9kjmrm|t3_17wxuid|Conservative|                null|2023-11-16 23:38:59|\n",
      "|Being pro-life wi...|       gh0stwriter88|    8|k8lk6sx|t3_17rg856|Conservative|        Conservative|2023-11-10 03:21:59|\n",
      "|A clump of cells ...|         calentureca|   52|k8eb7zp|t3_17qp9w5|Conservative|Military - Small ...|2023-11-08 19:23:59|\n",
      "|Well it’s been a ...|   EliteJassassin101|    8|k8drfjr|t3_17qqbdi|Conservative|Millennial Conser...|2023-11-08 17:25:59|\n",
      "|          Sickening.|      Pitiful-Aspect|    5|k8crf7n|t3_17qdew8|Conservative|Christian Conserv...|2023-11-08 13:31:59|\n",
      "|Exactly. News art...|      RampantAndroid|   25|k8c0pph|t3_17qb6ii|Conservative|Constitutional Co...|2023-11-08 08:33:59|\n",
      "|While your statem...|           ewebber94|   18|k8bh8au|t3_17qdew8|Conservative|                null|2023-11-08 04:49:59|\n",
      "|The skank amendment.|SomeoneHad2FuknSayIt|   -3|k46jccs|t3_174239z|Conservative|   Constitutionalist|2023-10-09 20:33:59|\n",
      "|       The uniparty?|           Nanoman20|   -3|k1a20hl|t3_16mb06l|Conservative|        Conservative|2023-09-19 14:47:59|\n",
      "|BuT deR a ClUmP o...|         bleepbluurp|   -1|k07tmsc|t3_16fxyg2|Conservative|        Conservative|2023-09-12 04:52:58|\n",
      "|Banning abortion ...|       CheechHimself|  -12|k05almf|t3_16fxyg2|Conservative|                null|2023-09-11 18:43:59|\n",
      "|Republicans are a...|             ultimis|    1|jy3os66|t3_163h3cd|Conservative|   Constitutionalist|2023-08-28 15:40:24|\n",
      "|You libertarians ...|             Zyrioun|   -4|jxsx8fv|t3_1614iob|Conservative|        Conservative|2023-08-26 07:43:59|\n",
      "|       Good to hear.|     ZazzRazzamatazz|    1|jxq8zru|t3_1614iob|Conservative|Catholic Conserative|2023-08-25 18:37:47|\n",
      "|Really? What does...|              agk927|    1|jxfb4ly|t3_15z0iut|Conservative|Moderate Conserva...|2023-08-23 15:36:59|\n",
      "|The den of Social...|   No-Artichoke-1912|   -1|jwipqxs|t3_15t92mr|Conservative|                null|2023-08-17 01:53:59|\n",
      "|How did we get to...| LVAthleticsWSChamps|    1|jsnunfl|t3_15457z8|Conservative|     Monroe Doctrine|2023-07-19 23:57:59|\n",
      "+--------------------+--------------------+-----+-------+----------+------------+--------------------+-------------------+\n",
      "only showing top 20 rows"
     ]
    }
   ],
   "source": [
    "# more recent comments\n",
    "data.orderBy('time', ascending=False).show()"
   ]
  },
  {
   "cell_type": "code",
   "execution_count": 12,
   "metadata": {},
   "outputs": [
    {
     "data": {
      "application/vnd.jupyter.widget-view+json": {
       "model_id": "",
       "version_major": 2,
       "version_minor": 0
      },
      "text/plain": [
       "FloatProgress(value=0.0, bar_style='info', description='Progress:', layout=Layout(height='25px', width='50%'),…"
      ]
     },
     "metadata": {},
     "output_type": "display_data"
    },
    {
     "name": "stdout",
     "output_type": "stream",
     "text": [
      "+--------------------+--------------------+-----+-------+----------+------------+--------------------+----+\n",
      "|                body|              author|score|     id|   link_id|   subreddit|   author_flair_text|time|\n",
      "+--------------------+--------------------+-----+-------+----------+------------+--------------------+----+\n",
      "|        Primary him.|   PerfectlyCalmDude|    1|jjgtdcw|t3_13c8tad|Conservative|Pragmatic Constit...|null|\n",
      "|>The pill prevent...|           zrennetta|    6|k8g1ds0|t3_17qp9w5|Conservative|Constitutional De...|null|\n",
      "|When you can't ac...|              Roku-6|    1|k5rbcgb|t3_17cmyhb|Conservative|                null|null|\n",
      "|You're conflating...|            Briguy28|   33|jje4cei|t3_13c08xf|Conservative|Cascadian Conserv...|null|\n",
      "|Read the article....|            roseffin|    1|jw5h4qr|t3_15qvrmj|Conservative| Fiscal Conservative|null|\n",
      "|How is murdering ...|          symbiote24|   -2|jfw63aa|t3_12iwa3k|Conservative|Bill of Rights En...|null|\n",
      "|Yeah I’m pro life...|    TheGuardianEagle|    3|jkfp52x|t3_13jjj3r|Conservative|Hispanic Classica...|null|\n",
      "|That's my next qu...|           parkowork|   18|jglv0fk|t3_12oth9v|Conservative|Libertarian Conse...|null|\n",
      "|This is sad, but ...|          hotlikebea|    1|k26990h|t3_16rvcm2|Conservative|        Conservative|null|\n",
      "|70% of women who ...|             ultimis|    1|k1s8mqn|t3_16pm5ka|Conservative|   Constitutionalist|null|\n",
      "|So you think taki...|      sleepyy-starss|    1|jsk7xne|t3_14t9q3l|Conservative|                null|null|\n",
      "|We’ve lost the va...|          ceecee1791|    1|k1sqed1|t3_16pm5ka|Conservative|Moderate Conserva...|null|\n",
      "|Because outlawing...|    Horror-Loan-4652|    1|jvh0197|t3_15lm73p|Conservative|        Conservative|null|\n",
      "|the baby's coming...|        KungFuSlanda|    1|jw6708o|t3_15qvrmj|Conservative|  McCarthy Was Right|null|\n",
      "|If Republicans wa...|         JustinCayce|   18|ka3jppx|t3_1803imq|Conservative|Constitutional Or...|null|\n",
      "|Pretty sure the p...|         Merrill1066|   92|k8dzs8y|t3_17qmb4a|Conservative|   Paleoconservative|null|\n",
      "|Remember this sto...|        sunkenship13|   -2|kapupnq|t3_183o47k|Conservative|Constitutional Co...|null|\n",
      "|Infanticide worke...|     AdamBrandenberg|    1|k0at5x1|t3_16fxyg2|Conservative|          I Like Ike|null|\n",
      "|> When will Repub...|      Mr_0pportunity|   19|jhgsxln|t3_12wtrep|Conservative|          Ultra MAGA|null|\n",
      "|Hurley echoed arg...|Ambitious_Theory_474|   48|jpwi4c8|t3_14ljlil|Conservative|2A Christian Cons...|null|\n",
      "+--------------------+--------------------+-----+-------+----------+------------+--------------------+----+\n",
      "only showing top 20 rows\n",
      "\n",
      "Null time count: 5743"
     ]
    }
   ],
   "source": [
    "# lots of null times.. this seems to be an issue within the zst data\n",
    "data.orderBy('time', ascending=True).show()\n",
    "\n",
    "null_time = data.filter(col('time').isNull())\n",
    "null_time_count = null_time.count()\n",
    "\n",
    "print('Null time count:', null_time_count)"
   ]
  },
  {
   "cell_type": "markdown",
   "metadata": {},
   "source": [
    "I wanted to show the older comments, but there are a lot of null comments. Looking back at the zst file, it seems to be a problem stemming from there. Luckily, I have the post times, so I can estimate the time of the comment from there. It won't be accurate down to the day, but it will give a estimate."
   ]
  },
  {
   "cell_type": "markdown",
   "metadata": {},
   "source": [
    "# Filling in null times\n",
    "I am going to filter out null times, join the link ids with the ids from the posts, and then join this dataframe with the full dataframe"
   ]
  },
  {
   "cell_type": "code",
   "execution_count": 13,
   "metadata": {},
   "outputs": [
    {
     "data": {
      "application/vnd.jupyter.widget-view+json": {
       "model_id": "",
       "version_major": 2,
       "version_minor": 0
      },
      "text/plain": [
       "FloatProgress(value=0.0, bar_style='info', description='Progress:', layout=Layout(height='25px', width='50%'),…"
      ]
     },
     "metadata": {},
     "output_type": "display_data"
    },
    {
     "name": "stdout",
     "output_type": "stream",
     "text": [
      "root\n",
      " |-- parent_id: string (nullable = true)\n",
      " |-- estimated_time: timestamp (nullable = true)\n",
      "\n",
      "+---------+-------------------+\n",
      "|parent_id|     estimated_time|\n",
      "+---------+-------------------+\n",
      "| t3_72v18|2008-09-22 19:01:29|\n",
      "| t3_ahsop|2009-12-23 10:33:52|\n",
      "| t3_bcj1g|2010-03-12 13:45:03|\n",
      "| t3_bjsrb|2010-03-29 17:46:07|\n",
      "| t3_c45dz|2010-05-14 17:07:09|\n",
      "| t3_chxh4|2010-06-22 23:27:18|\n",
      "| t3_cnyoj|2010-07-10 04:58:16|\n",
      "| t3_d799v|2010-08-30 15:24:32|\n",
      "| t3_er128|2010-12-24 19:50:59|\n",
      "| t3_f0gf5|2011-01-11 21:13:24|\n",
      "| t3_f5hcf|2011-01-20 01:00:28|\n",
      "| t3_g1xdt|2011-03-11 13:59:34|\n",
      "| t3_g2neq|2011-03-12 17:05:08|\n",
      "| t3_gf0kc|2011-03-30 21:30:32|\n",
      "| t3_gufsw|2011-04-20 13:30:43|\n",
      "| t3_gv102|2011-04-21 03:25:23|\n",
      "| t3_gvs0r|2011-04-23 16:07:57|\n",
      "| t3_j6r1v|2011-08-02 15:18:39|\n",
      "| t3_kqj7z|2011-09-25 02:24:01|\n",
      "| t3_l7gor|2011-10-10 20:37:47|\n",
      "+---------+-------------------+\n",
      "only showing top 20 rows"
     ]
    }
   ],
   "source": [
    "# reading in post df\n",
    "abortion_posts = spark.read.parquet('s3://131313113finalproject/posts_w_comments/')\n",
    "\n",
    "# and adding on the t3_ col again, but creating a df with time\n",
    "post_time = abortion_posts.withColumn(\"parent_id\", concat(lit(\"t3_\"), col(\"id\"))).select(\"parent_id\", col(\"date_posted\").alias(\"estimated_time\"))\n",
    "\n",
    "post_time.printSchema()\n",
    "\n",
    "post_time.show()"
   ]
  },
  {
   "cell_type": "code",
   "execution_count": 14,
   "metadata": {},
   "outputs": [
    {
     "data": {
      "application/vnd.jupyter.widget-view+json": {
       "model_id": "",
       "version_major": 2,
       "version_minor": 0
      },
      "text/plain": [
       "FloatProgress(value=0.0, bar_style='info', description='Progress:', layout=Layout(height='25px', width='50%'),…"
      ]
     },
     "metadata": {},
     "output_type": "display_data"
    },
    {
     "name": "stdout",
     "output_type": "stream",
     "text": [
      "+-------------------+----------+----------+\n",
      "|     estimated_time|   link_id| parent_id|\n",
      "+-------------------+----------+----------+\n",
      "|2023-05-24 01:58:44|t3_13q7u1m|t3_13q7u1m|\n",
      "|2023-11-08 02:10:02|t3_17qb6ii|t3_17qb6ii|\n",
      "|2023-06-26 00:49:03|t3_14j2lcn|t3_14j2lcn|\n",
      "|2023-04-11 17:52:13|t3_12irndl|t3_12irndl|\n",
      "|2023-04-18 15:47:17|t3_12qsp4u|t3_12qsp4u|\n",
      "|2023-04-05 20:51:17|t3_12cxg11|t3_12cxg11|\n",
      "|2023-04-23 23:04:34|t3_12wtrep|t3_12wtrep|\n",
      "|2023-04-04 18:44:57|t3_12bsdkm|t3_12bsdkm|\n",
      "|2023-04-14 10:54:07|t3_12lt8za|t3_12lt8za|\n",
      "|2023-05-19 21:27:36|t3_13m8ank|t3_13m8ank|\n",
      "|2023-08-12 15:12:22|t3_15p73ye|t3_15p73ye|\n",
      "|2023-08-14 14:09:00|t3_15qvrmj|t3_15qvrmj|\n",
      "|2023-10-10 21:46:25|t3_174x4w9|t3_174x4w9|\n",
      "|2023-05-28 23:00:14|t3_13uds4n|t3_13uds4n|\n",
      "|2023-04-11 17:52:13|t3_12irndl|t3_12irndl|\n",
      "|2023-08-25 16:48:49|t3_1614iob|t3_1614iob|\n",
      "|2023-12-18 13:49:28|t3_18l94wl|t3_18l94wl|\n",
      "|2023-04-14 10:54:07|t3_12lt8za|t3_12lt8za|\n",
      "|2023-12-05 16:39:49|t3_18bg4m8|t3_18bg4m8|\n",
      "|2023-08-14 14:09:00|t3_15qvrmj|t3_15qvrmj|\n",
      "+-------------------+----------+----------+\n",
      "only showing top 20 rows"
     ]
    }
   ],
   "source": [
    "# joining\n",
    "joined_null = null_time.join(post_time, \n",
    "                            null_time[\"link_id\"] == post_time[\"parent_id\"], \n",
    "                            how=\"left\")\n",
    "\n",
    "# filtering what I can see to make validation of accuracy easier\n",
    "joined_null.select('estimated_time', 'link_id', 'parent_id').show()\n",
    "\n",
    "# validated"
   ]
  },
  {
   "cell_type": "code",
   "execution_count": 15,
   "metadata": {},
   "outputs": [
    {
     "data": {
      "application/vnd.jupyter.widget-view+json": {
       "model_id": "",
       "version_major": 2,
       "version_minor": 0
      },
      "text/plain": [
       "FloatProgress(value=0.0, bar_style='info', description='Progress:', layout=Layout(height='25px', width='50%'),…"
      ]
     },
     "metadata": {},
     "output_type": "display_data"
    }
   ],
   "source": [
    "# creating new alias, so I know what to drop\n",
    "joined_null = joined_null.select(col('estimated_time').alias('estimated_time'), col('id').alias('id_b'))"
   ]
  },
  {
   "cell_type": "code",
   "execution_count": 16,
   "metadata": {},
   "outputs": [
    {
     "data": {
      "application/vnd.jupyter.widget-view+json": {
       "model_id": "",
       "version_major": 2,
       "version_minor": 0
      },
      "text/plain": [
       "FloatProgress(value=0.0, bar_style='info', description='Progress:', layout=Layout(height='25px', width='50%'),…"
      ]
     },
     "metadata": {},
     "output_type": "display_data"
    },
    {
     "name": "stdout",
     "output_type": "stream",
     "text": [
      "root\n",
      " |-- estimated_time: timestamp (nullable = true)\n",
      " |-- id_b: string (nullable = true)\n",
      "\n",
      "Total Rows: 5743"
     ]
    }
   ],
   "source": [
    "joined_null.printSchema()\n",
    "print('Total Rows: %d' % joined_null.count())"
   ]
  },
  {
   "cell_type": "code",
   "execution_count": 17,
   "metadata": {},
   "outputs": [
    {
     "data": {
      "application/vnd.jupyter.widget-view+json": {
       "model_id": "",
       "version_major": 2,
       "version_minor": 0
      },
      "text/plain": [
       "FloatProgress(value=0.0, bar_style='info', description='Progress:', layout=Layout(height='25px', width='50%'),…"
      ]
     },
     "metadata": {},
     "output_type": "display_data"
    },
    {
     "name": "stdout",
     "output_type": "stream",
     "text": [
      "Total Rows: 146173"
     ]
    }
   ],
   "source": [
    "# remembering how many rows data had originally\n",
    "print('Total Rows: %d' % data.count())"
   ]
  },
  {
   "cell_type": "code",
   "execution_count": 18,
   "metadata": {},
   "outputs": [
    {
     "data": {
      "application/vnd.jupyter.widget-view+json": {
       "model_id": "",
       "version_major": 2,
       "version_minor": 0
      },
      "text/plain": [
       "FloatProgress(value=0.0, bar_style='info', description='Progress:', layout=Layout(height='25px', width='50%'),…"
      ]
     },
     "metadata": {},
     "output_type": "display_data"
    },
    {
     "name": "stdout",
     "output_type": "stream",
     "text": [
      "Total Rows: 146173"
     ]
    }
   ],
   "source": [
    "# joining on left outer\n",
    "data = data.join(joined_null, \n",
    "                          data['id'] == joined_null['id_b'], \n",
    "                          how=\"leftOuter\")\\\n",
    "\n",
    "# using coalesce to combine times by getting first non-null value\n",
    "data = data.withColumn('time', coalesce(data['time'], data['estimated_time']))\n",
    "\n",
    "# making sure it's still the correct amount of rows\n",
    "print('Total Rows: %d' % data.count())"
   ]
  },
  {
   "cell_type": "code",
   "execution_count": 19,
   "metadata": {},
   "outputs": [
    {
     "data": {
      "application/vnd.jupyter.widget-view+json": {
       "model_id": "",
       "version_major": 2,
       "version_minor": 0
      },
      "text/plain": [
       "FloatProgress(value=0.0, bar_style='info', description='Progress:', layout=Layout(height='25px', width='50%'),…"
      ]
     },
     "metadata": {},
     "output_type": "display_data"
    },
    {
     "name": "stdout",
     "output_type": "stream",
     "text": [
      "root\n",
      " |-- body: string (nullable = true)\n",
      " |-- author: string (nullable = true)\n",
      " |-- score: integer (nullable = true)\n",
      " |-- id: string (nullable = true)\n",
      " |-- link_id: string (nullable = true)\n",
      " |-- subreddit: string (nullable = true)\n",
      " |-- author_flair_text: string (nullable = true)\n",
      " |-- time: timestamp (nullable = true)"
     ]
    }
   ],
   "source": [
    "# dropping cols I no longer need\n",
    "data = data.drop('id_b', 'estimated_time').persist()\n",
    "data.printSchema()"
   ]
  },
  {
   "cell_type": "code",
   "execution_count": 20,
   "metadata": {},
   "outputs": [
    {
     "data": {
      "application/vnd.jupyter.widget-view+json": {
       "model_id": "",
       "version_major": 2,
       "version_minor": 0
      },
      "text/plain": [
       "FloatProgress(value=0.0, bar_style='info', description='Progress:', layout=Layout(height='25px', width='50%'),…"
      ]
     },
     "metadata": {},
     "output_type": "display_data"
    },
    {
     "name": "stdout",
     "output_type": "stream",
     "text": [
      "+--------------------+----------------+-----+-------+----------+------------+-----------------+-------------------+\n",
      "|                body|          author|score|     id|   link_id|   subreddit|author_flair_text|               time|\n",
      "+--------------------+----------------+-----+-------+----------+------------+-----------------+-------------------+\n",
      "|Leftists have bee...|Sauvignon_Bleach|  -60|k8dhz8e|t3_17qp9w5|Conservative|     Conservative|2023-11-08 16:22:07|\n",
      "+--------------------+----------------+-----+-------+----------+------------+-----------------+-------------------+"
     ]
    }
   ],
   "source": [
    "data.where(data['id'] == 'k8dhz8e').show()"
   ]
  },
  {
   "cell_type": "markdown",
   "metadata": {},
   "source": [
    "This is one of the comments from the original null time chart, and as you can see it now has the time, and is not duplicated. Now I can see the overall range of comments."
   ]
  },
  {
   "cell_type": "code",
   "execution_count": 21,
   "metadata": {},
   "outputs": [
    {
     "data": {
      "application/vnd.jupyter.widget-view+json": {
       "model_id": "",
       "version_major": 2,
       "version_minor": 0
      },
      "text/plain": [
       "FloatProgress(value=0.0, bar_style='info', description='Progress:', layout=Layout(height='25px', width='50%'),…"
      ]
     },
     "metadata": {},
     "output_type": "display_data"
    },
    {
     "name": "stdout",
     "output_type": "stream",
     "text": [
      "Null Time Count: 0"
     ]
    }
   ],
   "source": [
    "null_t_count = data.where(data['time'] == 'null').count()\n",
    "print('Null Time Count:', null_t_count)"
   ]
  },
  {
   "cell_type": "code",
   "execution_count": 22,
   "metadata": {},
   "outputs": [
    {
     "data": {
      "application/vnd.jupyter.widget-view+json": {
       "model_id": "",
       "version_major": 2,
       "version_minor": 0
      },
      "text/plain": [
       "FloatProgress(value=0.0, bar_style='info', description='Progress:', layout=Layout(height='25px', width='50%'),…"
      ]
     },
     "metadata": {},
     "output_type": "display_data"
    },
    {
     "name": "stdout",
     "output_type": "stream",
     "text": [
      "+----+-----+\n",
      "|year|count|\n",
      "+----+-----+\n",
      "|2018| 8430|\n",
      "|2010|   77|\n",
      "|2011|  214|\n",
      "|2017| 5383|\n",
      "|2013| 2835|\n",
      "|2020|15153|\n",
      "|2015| 1909|\n",
      "|2023| 9661|\n",
      "|2014| 1023|\n",
      "|2012| 2169|\n",
      "|2016| 4430|\n",
      "|2021|29346|\n",
      "|2022|52151|\n",
      "|2019|13374|\n",
      "|2008|    5|\n",
      "|2009|   13|\n",
      "+----+-----+"
     ]
    }
   ],
   "source": [
    "year = data.withColumn('year', year('time'))\n",
    "\n",
    "posts_per_year = year.groupBy('year').agg(count('*').alias('count'))\n",
    "\n",
    "posts_per_year.show()"
   ]
  },
  {
   "cell_type": "markdown",
   "metadata": {},
   "source": [
    "# User Flares\n",
    "An 'author_flair_text' is a title that goes along with your Reddit username along every post that you make within the sub. They are pretty good indicators of who is active in the sub, and in this case, good indicators of who is definitley a conservative, and not someone who just posts on the subreddit. This will become more obvious when I show the example."
   ]
  },
  {
   "cell_type": "code",
   "execution_count": 23,
   "metadata": {},
   "outputs": [
    {
     "data": {
      "application/vnd.jupyter.widget-view+json": {
       "model_id": "",
       "version_major": 2,
       "version_minor": 0
      },
      "text/plain": [
       "FloatProgress(value=0.0, bar_style='info', description='Progress:', layout=Layout(height='25px', width='50%'),…"
      ]
     },
     "metadata": {},
     "output_type": "display_data"
    },
    {
     "name": "stdout",
     "output_type": "stream",
     "text": [
      "Flares with the Subreddit: 66932\n",
      "\n",
      "An example of some flares:\n",
      "+----------------------------+\n",
      "|author_flair_text           |\n",
      "+----------------------------+\n",
      "|Conservative CPA            |\n",
      "|Libertarian Conservative    |\n",
      "|MAGA                        |\n",
      "|Conservatus Maximus         |\n",
      "|ΜΟΛΩΝ ΛΑΒΕ                  |\n",
      "|Liberty-Minded              |\n",
      "|Constitution                |\n",
      "|We the People               |\n",
      "|God, Family, Country        |\n",
      "|Libertarian-Conservative    |\n",
      "|Strict Constitutionalist    |\n",
      "|Live Free or Die            |\n",
      "|Mei the Wall be with you    |\n",
      "|Anti-Censorship &amp; Pro 2A|\n",
      "|Annex Judea &amp; Samaria   |\n",
      "|Traditionalist Conservative |\n",
      "|Christian                   |\n",
      "|paleocon                    |\n",
      "|Limbaugh Conservative       |\n",
      "|2A!                         |\n",
      "+----------------------------+\n",
      "only showing top 20 rows"
     ]
    }
   ],
   "source": [
    "flares = data.where(data['author_flair_text'] != 'null')\n",
    "print('Flares with the Subreddit:', flares.count())\n",
    "\n",
    "print()\n",
    "print('An example of some flares:')\n",
    "flares.select('author_flair_text').distinct().show(truncate=False)"
   ]
  },
  {
   "cell_type": "code",
   "execution_count": 24,
   "metadata": {},
   "outputs": [
    {
     "data": {
      "application/vnd.jupyter.widget-view+json": {
       "model_id": "",
       "version_major": 2,
       "version_minor": 0
      },
      "text/plain": [
       "FloatProgress(value=0.0, bar_style='info', description='Progress:', layout=Layout(height='25px', width='50%'),…"
      ]
     },
     "metadata": {},
     "output_type": "display_data"
    },
    {
     "name": "stdout",
     "output_type": "stream",
     "text": [
      "+---------------------------------------------------------------------------------------------------------------------------------------------------------------------------------------------------------------------------------------------------------------------------------------------------------------------------------------------------------------------------------------------------------------------------------------------------------------------------------------------------------------------------------------------------------------------------------------------------------------------------------------------------------------------------------------------------------------------------------------------------------------------------------------------+-----+-------------------+\n",
      "|body                                                                                                                                                                                                                                                                                                                                                                                                                                                                                                                                                                                                                                                                                                                                                                                         |score|time               |\n",
      "+---------------------------------------------------------------------------------------------------------------------------------------------------------------------------------------------------------------------------------------------------------------------------------------------------------------------------------------------------------------------------------------------------------------------------------------------------------------------------------------------------------------------------------------------------------------------------------------------------------------------------------------------------------------------------------------------------------------------------------------------------------------------------------------------+-----+-------------------+\n",
      "|Sounds like a self solving problem                                                                                                                                                                                                                                                                                                                                                                                                                                                                                                                                                                                                                                                                                                                                                           |1835 |2021-12-27 17:33:45|\n",
      "|This is the type of thing that will lose the election in November. The fight against unrestricted access to abortion is one thing, and I understand that unborn life is precious, but how does one demand that an assaulted woman carry her attacker's pregnancy to term? That's life created out of violence, and you can't tell me to ignore the emotions of the argument. If my wife was attacked, became pregnant as a result, and someone came to her and said \"Too bad, that's unfortunate, but you're required to carry to term\"... we're going to have serious fucking problems.You want to ride the moral high horse of these actions, do so, but don't pretend that you aren't entirely throwing aside the trauma a woman has endured as a result of it. There's zero balance here.|1554 |2022-09-07 12:21:04|\n",
      "|This is where I diverge from my fellow conservatives. I feel that abortion should be legal and safe. Don’t want one, don’t get one.                                                                                                                                                                                                                                                                                                                                                                                                                                                                                                                                                                                                                                                          |1440 |2022-05-03 01:19:34|\n",
      "|they already don't have any jurisdiction over it. in fact, that's LITERALLY what their ruling was. they said the constitution doesn't say anything about it so in absence of federal law, states can do as they please.                                                                                                                                                                                                                                                                                                                                                                                                                                                                                                                                                                      |1397 |2022-07-15 21:02:54|\n",
      "|If she'd give up on the gun control stuff she'd be like a good center left rand paul.                                                                                                                                                                                                                                                                                                                                                                                                                                                                                                                                                                                                                                                                                                        |1303 |2020-12-16 22:48:55|\n",
      "|Overturning Roe made it a states’ rights issue. The people of the state have spoken. It’s the same for the states that ban it. If you have a problem with the outcome, then vote in state elections.                                                                                                                                                                                                                                                                                                                                                                                                                                                                                                                                                                                         |1244 |2023-11-08 02:10:02|\n",
      "|Damn she's more conservative than some Republicans.                                                                                                                                                                                                                                                                                                                                                                                                                                                                                                                                                                                                                                                                                                                                          |1206 |2020-12-17 00:31:20|\n",
      "|Fine.  This can be a case study for red cities in blue states that don't want to enforce 2A restrictions.                                                                                                                                                                                                                                                                                                                                                                                                                                                                                                                                                                                                                                                                                    |1200 |2022-07-15 12:18:57|\n",
      "|The whole idea of *Dobbs* was that the decision would be turned over to *the states.*  That's always been the stated political goal.He's not doing any good whatsoever with this.                                                                                                                                                                                                                                                                                                                                                                                                                                                                                                                                                                                                            |1199 |2022-09-13 12:35:02|\n",
      "|Oh, no!Anyway...                                                                                                                                                                                                                                                                                                                                                                                                                                                                                                                                                                                                                                                                                                                                                                             |1196 |2022-07-17 13:48:18|\n",
      "|Doubtful, never has a draft opinion ever been released. EVER.Heads will roll if this was leaked.Edit: heads will roll when leak is found, sorry guys I was worked up!                                                                                                                                                                                                                                                                                                                                                                                                                                                                                                                                                                                                                        |1171 |2022-05-03 01:04:06|\n",
      "|This picture is basically why the abortion \"debate\" is literally never going to be solved.It's two groups of people arguing completely past each other because they disagree on the basic premise of the argument.                                                                                                                                                                                                                                                                                                                                                                                                                                                                                                                                                                           |1149 |2021-09-03 15:11:50|\n",
      "|If a baby is born a few weeks or a month prematurely, no one (well, at least not yet) denies that it's a person. If you killed it, you would be rightly charged with murder. But that exact same baby, if it still happens to be in the womb, doesn't count as a human and you're free to decide to kill it.                                                                                                                                                                                                                                                                                                                                                                                                                                                                                 |1131 |2022-01-15 14:09:40|\n",
      "|She is just there for the wine.                                                                                                                                                                                                                                                                                                                                                                                                                                                                                                                                                                                                                                                                                                                                                              |1031 |2022-05-20 19:26:46|\n",
      "|Honestly it’s shocking how many people here are cheering for this like it’s a sports game                                                                                                                                                                                                                                                                                                                                                                                                                                                                                                                                                                                                                                                                                                    |1013 |2022-05-03 02:24:00|\n",
      "|In this case, the abortion is not the real problem.                                                                                                                                                                                                                                                                                                                                                                                                                                                                                                                                                                                                                                                                                                                                          |948  |2022-07-02 08:09:32|\n",
      "|FYI Kansas abortion law allows for abortions up to 20 week after fertilization. So it is not like the state has zero abortion laws at all. This is probably a sign that people dont want complete bans and were perfectly happy with the ban sitting at 20/22 weeks. The pro-life peeps won a huge victory with Roe, but they need to realize that the VAST majority of the country is not in favor of banning abortion and I would say the majority do not support the current crop of 6 week laws that are popping up.                                                                                                                                                                                                                                                                     |926  |2022-08-03 05:03:08|\n",
      "|Then they will say the republicans blocked a coronavirus bill.                                                                                                                                                                                                                                                                                                                                                                                                                                                                                                                                                                                                                                                                                                                               |924  |2020-03-13 00:40:30|\n",
      "|Important to note that this data is only from Florida in 2020, since Florida requires a reason for every abortion within state borders. The report does have another table for national data but it's sampled.                                                                                                                                                                                                                                                                                                                                                                                                                                                                                                                                                                               |896  |2022-06-29 16:12:52|\n",
      "|So, the people who want to be in charge of our country are more interested in killing it's citizens than in representing them. Good to know.                                                                                                                                                                                                                                                                                                                                                                                                                                                                                                                                                                                                                                                 |881  |2023-02-08 21:05:36|\n",
      "+---------------------------------------------------------------------------------------------------------------------------------------------------------------------------------------------------------------------------------------------------------------------------------------------------------------------------------------------------------------------------------------------------------------------------------------------------------------------------------------------------------------------------------------------------------------------------------------------------------------------------------------------------------------------------------------------------------------------------------------------------------------------------------------------+-----+-------------------+\n",
      "only showing top 20 rows"
     ]
    }
   ],
   "source": [
    "high_scores = data.orderBy('score', ascending=False)\n",
    "high_scores.select('body','score', 'time').show(truncate=False)"
   ]
  },
  {
   "cell_type": "code",
   "execution_count": 25,
   "metadata": {},
   "outputs": [
    {
     "data": {
      "application/vnd.jupyter.widget-view+json": {
       "model_id": "",
       "version_major": 2,
       "version_minor": 0
      },
      "text/plain": [
       "FloatProgress(value=0.0, bar_style='info', description='Progress:', layout=Layout(height='25px', width='50%'),…"
      ]
     },
     "metadata": {},
     "output_type": "display_data"
    },
    {
     "name": "stdout",
     "output_type": "stream",
     "text": [
      "+-----------------------------------------------------------------------------------------------------------------------------------------------------------------------------------------------------------------------------------------------------------------------------------------------------------------------------------------------------------------------------------------------------------------------------------------------------------------------------------------------------------------------------------------------------------------------------------------------------------------------------------------------------------------------------------------------------------------------------------------------------------------------------+-----+-------------------+\n",
      "|body                                                                                                                                                                                                                                                                                                                                                                                                                                                                                                                                                                                                                                                                                                                                                                         |score|time               |\n",
      "+-----------------------------------------------------------------------------------------------------------------------------------------------------------------------------------------------------------------------------------------------------------------------------------------------------------------------------------------------------------------------------------------------------------------------------------------------------------------------------------------------------------------------------------------------------------------------------------------------------------------------------------------------------------------------------------------------------------------------------------------------------------------------------+-----+-------------------+\n",
      "|Hard-line stance is a bit of a stretch here. I get the argument; the child has a low chance of survival but if you abort it, it has a 0% chance of survival.                                                                                                                                                                                                                                                                                                                                                                                                                                                                                                                                                                                                                 |-396 |2023-12-08 22:31:43|\n",
      "|We’re they trying to stop the outcome of an election?                                                                                                                                                                                                                                                                                                                                                                                                                                                                                                                                                                                                                                                                                                                        |-315 |2022-06-22 23:08:14|\n",
      "|Based Ken PaxtonHopefully Abbott can pull a DeSantis and get the judge removed or something                                                                                                                                                                                                                                                                                                                                                                                                                                                                                                                                                                                                                                                                                  |-312 |2023-12-08 22:31:43|\n",
      "|Just like with everything else, the left votes as a complete bloc and Republican mush pushes them over the goal line.The fence sitters are just too swayed by culture.  Until you take the culture back, this stuff is going to keep happening.                                                                                                                                                                                                                                                                                                                                                                                                                                                                                                                              |-272 |2023-11-08 02:10:02|\n",
      "|Slavery was a 'states rights' issue.   It was objectively wrong like abortion.   Hopefully, we get a national ban.                                                                                                                                                                                                                                                                                                                                                                                                                                                                                                                                                                                                                                                           |-255 |2023-11-08 02:10:02|\n",
      "|For all you liberals and worse about to brigade, know this. Abortion is a crime against humanity. It is the slavery of our time. Downvote me because you can’t keep it in your pants and you can’t accept responsibility for your actions. Vaginal sex is not just for pleasure, it is to create life. It may be the most powerful thing you can do as a human, and because of that you have a responsibility not to abuse that power in risky and detrimental waysEdit:I made top minds of Reddit. Wow this really is amazing. I’d like to thank all the brigading liberals and worse in violation of Reddit’s policy for down voting me. Couldn’t of done this without you. I’d also like to thank the amazing work pro life activists do in saving the lives of the unborn|-250 |2018-11-30 14:10:15|\n",
      "|Tell me this right now, do you conservatives want toForce more children into poverty, when [356 million](LINK kids are already living in extreme poverty?Force more kids in [abusive foster cares](LINK more [unfit parents](LINK to have kids?Cause thats the feeling Im getting when conservatives and republicans want to ban women from getting the right to abortions. What a \"free\" country                                                                                                                                                                                                                                                                                                                                                                            |-249 |2022-05-10 00:15:11|\n",
      "|Did you all forget when hundreds of protestors did this in Michigan, some open carrying and no one called it an insurrection then. LINK                                                                                                                                                                                                                                                                                                                                                                                                                                                                                                                                                                                                                                      |-246 |2022-06-22 21:14:29|\n",
      "|>The FDA has repeatedly said that the abortion medication is a safe and effectiveSo safe and effective it only kills one child per use. Well within our standards!                                                                                                                                                                                                                                                                                                                                                                                                                                                                                                                                                                                                           |-239 |2023-04-07 22:58:31|\n",
      "|\"Judge permits woman to murder her sick child because it has a low chance of survival\"                                                                                                                                                                                                                                                                                                                                                                                                                                                                                                                                                                                                                                                                                       |-226 |2023-12-08 22:31:43|\n",
      "|There are teens and adults living today with the same condition. Sure they may need assistance, some may never walk on their own, but saying \"what kind of life would that be\" is so shitty. You would never say that to someone's face, but imagine if someone with the same condition read your comment.                                                                                                                                                                                                                                                                                                                                                                                                                                                                   |-224 |2023-12-08 22:31:43|\n",
      "|If my two choices are \"support murder\" or \"be heartless\" then I'll joyfully choose being heartless.                                                                                                                                                                                                                                                                                                                                                                                                                                                                                                                                                                                                                                                                          |-218 |2023-12-08 22:31:43|\n",
      "|But here’s the thing: majority vote doesn’t decide what is and what isn’t murder. Abortion is murder at a massive scale. At some point you have to put your foot down and say “to hell with popular opinion, right is right.” I won’t be satisfied until abortion is treated as homicide nationwide.                                                                                                                                                                                                                                                                                                                                                                                                                                                                         |-204 |2022-08-03 06:35:45|\n",
      "|Great! Abortion is murder.                                                                                                                                                                                                                                                                                                                                                                                                                                                                                                                                                                                                                                                                                                                                                   |-204 |2023-04-07 22:58:31|\n",
      "|Condoms don’t always work                                                                                                                                                                                                                                                                                                                                                                                                                                                                                                                                                                                                                                                                                                                                                    |-194 |2022-04-05 23:39:13|\n",
      "|>States rights issue, Leftist activists decided to literally murder babies up to the moment of birth. Let it be bigots. What do you care? Do you know how psychotic you brigaders sound?                                                                                                                                                                                                                                                                                                                                                                                                                                                                                                                                                                                     |-192 |2023-11-08 02:10:02|\n",
      "|Im very disappointed and frustrated by this, being from Kansas I thought this had a much better chance at passing, but the results were horrible. The disinformation, lies, and fear mongering put out by the left worked. It’s pretty sad people fall for that stuff                                                                                                                                                                                                                                                                                                                                                                                                                                                                                                        |-191 |2022-08-03 03:49:27|\n",
      "|Trolls are downvoting in force. Guess what. Trolls. I am Pro-Life.Not only should abortion be illegal it should be unthinkable. A new human life begins at conception. The simplest, most logical position is the basic right to life attaches at the first moment of human existence, conception. The fact of being human is enough on its own to grant the right to live. Every other position requires some conditional that remains unsatisfying. If you want to argue for abortion, you have to justify why the child has to die. Most reasons for abortion fail that test.                                                                                                                                                                                             |-191 |2022-08-03 04:11:17|\n",
      "|It's the exact same ruling they made with ending Roe.   It should be up to legislators, not un-elected judges, to make laws.If we get a majority in '24 we need to outlaw abortion in all forms.                                                                                                                                                                                                                                                                                                                                                                                                                                                                                                                                                                             |-191 |2023-04-21 23:32:49|\n",
      "|I’m glad you realize that the police are racist.                                                                                                                                                                                                                                                                                                                                                                                                                                                                                                                                                                                                                                                                                                                             |-186 |2020-06-12 22:19:34|\n",
      "+-----------------------------------------------------------------------------------------------------------------------------------------------------------------------------------------------------------------------------------------------------------------------------------------------------------------------------------------------------------------------------------------------------------------------------------------------------------------------------------------------------------------------------------------------------------------------------------------------------------------------------------------------------------------------------------------------------------------------------------------------------------------------------+-----+-------------------+\n",
      "only showing top 20 rows"
     ]
    }
   ],
   "source": [
    "low_scores = data.orderBy('score', ascending=True)\n",
    "low_scores.select('body','score', 'time').show(truncate=False)"
   ]
  },
  {
   "cell_type": "code",
   "execution_count": 26,
   "metadata": {
    "vscode": {
     "languageId": "plaintext"
    }
   },
   "outputs": [
    {
     "data": {
      "application/vnd.jupyter.widget-view+json": {
       "model_id": "",
       "version_major": 2,
       "version_minor": 0
      },
      "text/plain": [
       "FloatProgress(value=0.0, bar_style='info', description='Progress:', layout=Layout(height='25px', width='50%'),…"
      ]
     },
     "metadata": {},
     "output_type": "display_data"
    }
   ],
   "source": [
    "# lastly, want to get rid of any comments that won't hold enough meaning within the dataset, so dropping smaller responses\n",
    "data = data.filter(size(split(col('body'), ' ')) >= 2)"
   ]
  },
  {
   "cell_type": "code",
   "execution_count": 27,
   "metadata": {},
   "outputs": [
    {
     "data": {
      "application/vnd.jupyter.widget-view+json": {
       "model_id": "",
       "version_major": 2,
       "version_minor": 0
      },
      "text/plain": [
       "FloatProgress(value=0.0, bar_style='info', description='Progress:', layout=Layout(height='25px', width='50%'),…"
      ]
     },
     "metadata": {},
     "output_type": "display_data"
    },
    {
     "name": "stdout",
     "output_type": "stream",
     "text": [
      "Total Rows: 142924\n",
      "Total Columns: 8"
     ]
    }
   ],
   "source": [
    "print('Total Rows: %d' % data.count())\n",
    "print('Total Columns: %d' % len(data.dtypes))"
   ]
  },
  {
   "cell_type": "code",
   "execution_count": 29,
   "metadata": {},
   "outputs": [
    {
     "data": {
      "application/vnd.jupyter.widget-view+json": {
       "model_id": "",
       "version_major": 2,
       "version_minor": 0
      },
      "text/plain": [
       "FloatProgress(value=0.0, bar_style='info', description='Progress:', layout=Layout(height='25px', width='50%'),…"
      ]
     },
     "metadata": {},
     "output_type": "display_data"
    }
   ],
   "source": [
    "# writing to bucket\n",
    "bucket = 's3://131313113finalproject/cleaned_data_2'\n",
    "\n",
    "data.write.parquet(bucket, mode=\"overwrite\")"
   ]
  }
 ],
 "metadata": {
  "kernelspec": {
   "display_name": "PySpark",
   "language": "",
   "name": "pysparkkernel"
  },
  "language_info": {
   "codemirror_mode": {
    "name": "python",
    "version": 3
   },
   "mimetype": "text/x-python",
   "name": "pyspark",
   "pygments_lexer": "python3"
  }
 },
 "nbformat": 4,
 "nbformat_minor": 4
}
